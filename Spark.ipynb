{
 "cells": [
  {
   "cell_type": "code",
   "execution_count": 1,
   "metadata": {},
   "outputs": [
    {
     "ename": "ModuleNotFoundError",
     "evalue": "No module named 'findspark'",
     "output_type": "error",
     "traceback": [
      "\u001b[1;31m---------------------------------------------------------------------------\u001b[0m",
      "\u001b[1;31mModuleNotFoundError\u001b[0m                       Traceback (most recent call last)",
      "\u001b[1;32m<ipython-input-1-4e91d34768ac>\u001b[0m in \u001b[0;36m<module>\u001b[1;34m\u001b[0m\n\u001b[1;32m----> 1\u001b[1;33m \u001b[1;32mimport\u001b[0m \u001b[0mfindspark\u001b[0m\u001b[1;33m\u001b[0m\u001b[1;33m\u001b[0m\u001b[0m\n\u001b[0m\u001b[0;32m      2\u001b[0m \u001b[0mfindspark\u001b[0m\u001b[1;33m.\u001b[0m\u001b[0minit\u001b[0m\u001b[1;33m(\u001b[0m\u001b[1;33m)\u001b[0m\u001b[1;33m\u001b[0m\u001b[1;33m\u001b[0m\u001b[0m\n",
      "\u001b[1;31mModuleNotFoundError\u001b[0m: No module named 'findspark'"
     ]
    }
   ],
   "source": [
    "import findspark\n",
    "findspark.init()"
   ]
  },
  {
   "cell_type": "code",
   "execution_count": 2,
   "metadata": {},
   "outputs": [],
   "source": [
    "from pyspark.sql import SparkSession\n",
    "spark = SparkSession.builder.master(\"local\").getOrCreate()"
   ]
  },
  {
   "cell_type": "code",
   "execution_count": 5,
   "metadata": {},
   "outputs": [
    {
     "data": {
      "text/plain": [
       "[('Bob', 2), ('John', 4), ('Nancy', 8)]"
      ]
     },
     "execution_count": 5,
     "metadata": {},
     "output_type": "execute_result"
    }
   ],
   "source": [
    "# Creating RDDs\n",
    "rdd = spark.sparkContext.parallelize([('Bob',1),('John',4),('Nancy',8),('Bob',1)])\n",
    "\n",
    "# RDD Operations\n",
    "rdd.reduceByKey(lambda a,b: a+b).collect()"
   ]
  },
  {
   "cell_type": "code",
   "execution_count": 6,
   "metadata": {},
   "outputs": [
    {
     "data": {
      "text/plain": [
       "('Bob', 1, 'John', 4, 'Nancy', 8, 'Bob', 1)"
      ]
     },
     "execution_count": 6,
     "metadata": {},
     "output_type": "execute_result"
    }
   ],
   "source": [
    "rdd.reduce(lambda a,b:a+b)"
   ]
  },
  {
   "cell_type": "code",
   "execution_count": 6,
   "metadata": {},
   "outputs": [
    {
     "data": {
      "text/plain": [
       "pyspark.sql.session.SparkSession"
      ]
     },
     "execution_count": 6,
     "metadata": {},
     "output_type": "execute_result"
    }
   ],
   "source": [
    "type(spark)"
   ]
  },
  {
   "cell_type": "code",
   "execution_count": 7,
   "metadata": {},
   "outputs": [
    {
     "data": {
      "text/plain": [
       "'2.2.1'"
      ]
     },
     "execution_count": 7,
     "metadata": {},
     "output_type": "execute_result"
    }
   ],
   "source": [
    "spark.version"
   ]
  },
  {
   "cell_type": "code",
   "execution_count": 4,
   "metadata": {},
   "outputs": [
    {
     "data": {
      "text/plain": [
       "[('spark.master', 'local'),\n",
       " ('spark.submit.deployMode', 'client'),\n",
       " ('spark.app.name', 'pyspark-shell')]"
      ]
     },
     "execution_count": 4,
     "metadata": {},
     "output_type": "execute_result"
    }
   ],
   "source": [
    "from pyspark import SparkConf\n",
    "SparkConf().getAll()"
   ]
  },
  {
   "cell_type": "code",
   "execution_count": 15,
   "metadata": {},
   "outputs": [
    {
     "data": {
      "text/plain": [
       "[('spark.master', 'local'),\n",
       " ('spark.driver.host', '10.229.6.198'),\n",
       " ('spark.rdd.compress', 'True'),\n",
       " ('spark.serializer.objectStreamReset', '100'),\n",
       " ('spark.executor.id', 'driver'),\n",
       " ('spark.submit.deployMode', 'client'),\n",
       " ('spark.driver.port', '50367'),\n",
       " ('spark.app.id', 'local-1566878456736'),\n",
       " ('spark.app.name', 'pyspark-shell')]"
      ]
     },
     "execution_count": 15,
     "metadata": {},
     "output_type": "execute_result"
    }
   ],
   "source": [
    "sc=spark.sparkContext\n",
    "sc.getConf().getAll()\n",
    "# sc.stop()"
   ]
  },
  {
   "cell_type": "code",
   "execution_count": 3,
   "metadata": {},
   "outputs": [],
   "source": [
    "df=spark.read.csv(\"test_data\\\\iris.csv\",header=True,mode=\"DROPMALFORMED\",inferSchema=True)"
   ]
  },
  {
   "cell_type": "code",
   "execution_count": 19,
   "metadata": {},
   "outputs": [
    {
     "data": {
      "text/plain": [
       "pyspark.sql.dataframe.DataFrame"
      ]
     },
     "execution_count": 19,
     "metadata": {},
     "output_type": "execute_result"
    }
   ],
   "source": [
    "type(df)"
   ]
  },
  {
   "cell_type": "code",
   "execution_count": 6,
   "metadata": {},
   "outputs": [
    {
     "data": {
      "text/plain": [
       "[Row(_c0=1, Sepal.Length=5.1, Sepal.Width=3.5, Petal.Length=1.4, Petal.Width=0.2, Species='setosa'),\n",
       " Row(_c0=2, Sepal.Length=4.9, Sepal.Width=3.0, Petal.Length=1.4, Petal.Width=0.2, Species='setosa'),\n",
       " Row(_c0=3, Sepal.Length=4.7, Sepal.Width=3.2, Petal.Length=1.3, Petal.Width=0.2, Species='setosa')]"
      ]
     },
     "execution_count": 6,
     "metadata": {},
     "output_type": "execute_result"
    }
   ],
   "source": [
    "df.take(3)"
   ]
  },
  {
   "cell_type": "code",
   "execution_count": 7,
   "metadata": {},
   "outputs": [
    {
     "name": "stdout",
     "output_type": "stream",
     "text": [
      "root\n",
      " |-- _c0: integer (nullable = true)\n",
      " |-- Sepal.Length: double (nullable = true)\n",
      " |-- Sepal.Width: double (nullable = true)\n",
      " |-- Petal.Length: double (nullable = true)\n",
      " |-- Petal.Width: double (nullable = true)\n",
      " |-- Species: string (nullable = true)\n",
      "\n"
     ]
    }
   ],
   "source": [
    "df.printSchema()"
   ]
  },
  {
   "cell_type": "code",
   "execution_count": 8,
   "metadata": {},
   "outputs": [
    {
     "data": {
      "text/plain": [
       "['_c0',\n",
       " 'Sepal.Length',\n",
       " 'Sepal.Width',\n",
       " 'Petal.Length',\n",
       " 'Petal.Width',\n",
       " 'Species']"
      ]
     },
     "execution_count": 8,
     "metadata": {},
     "output_type": "execute_result"
    }
   ],
   "source": [
    "df.columns"
   ]
  },
  {
   "cell_type": "code",
   "execution_count": 4,
   "metadata": {},
   "outputs": [],
   "source": [
    "df=df.drop('_c0')"
   ]
  },
  {
   "cell_type": "code",
   "execution_count": 10,
   "metadata": {},
   "outputs": [
    {
     "data": {
      "text/plain": [
       "Row(Sepal.Length=5.1, Sepal.Width=3.5, Petal.Length=1.4, Petal.Width=0.2, Species='setosa')"
      ]
     },
     "execution_count": 10,
     "metadata": {},
     "output_type": "execute_result"
    }
   ],
   "source": [
    "df.first()"
   ]
  },
  {
   "cell_type": "code",
   "execution_count": 29,
   "metadata": {},
   "outputs": [],
   "source": [
    "r=df.rdd  #convert dataframe to RDD"
   ]
  },
  {
   "cell_type": "code",
   "execution_count": 30,
   "metadata": {},
   "outputs": [
    {
     "data": {
      "text/plain": [
       "pyspark.rdd.RDD"
      ]
     },
     "execution_count": 30,
     "metadata": {},
     "output_type": "execute_result"
    }
   ],
   "source": [
    "type(r)"
   ]
  },
  {
   "cell_type": "code",
   "execution_count": 35,
   "metadata": {},
   "outputs": [
    {
     "data": {
      "text/plain": [
       "Row(Sepal.Length=5.1, Sepal.Width=3.5, Petal.Length=1.4, Petal.Width=0.2, Species='setosa')"
      ]
     },
     "execution_count": 35,
     "metadata": {},
     "output_type": "execute_result"
    }
   ],
   "source": [
    "r.first()  "
   ]
  },
  {
   "cell_type": "code",
   "execution_count": 32,
   "metadata": {},
   "outputs": [],
   "source": [
    "df2=r.toDF()  #convert RDD to dataframe"
   ]
  },
  {
   "cell_type": "code",
   "execution_count": 40,
   "metadata": {},
   "outputs": [
    {
     "name": "stdout",
     "output_type": "stream",
     "text": [
      "+------------+-----------+------------+-----------+-------+\n",
      "|Sepal.Length|Sepal.Width|Petal.Length|Petal.Width|Species|\n",
      "+------------+-----------+------------+-----------+-------+\n",
      "|         5.1|        3.5|         1.4|        0.2| setosa|\n",
      "|         4.9|        3.0|         1.4|        0.2| setosa|\n",
      "|         4.7|        3.2|         1.3|        0.2| setosa|\n",
      "|         4.6|        3.1|         1.5|        0.2| setosa|\n",
      "|         5.0|        3.6|         1.4|        0.2| setosa|\n",
      "|         5.4|        3.9|         1.7|        0.4| setosa|\n",
      "|         4.6|        3.4|         1.4|        0.3| setosa|\n",
      "|         5.0|        3.4|         1.5|        0.2| setosa|\n",
      "|         4.4|        2.9|         1.4|        0.2| setosa|\n",
      "|         4.9|        3.1|         1.5|        0.1| setosa|\n",
      "|         5.4|        3.7|         1.5|        0.2| setosa|\n",
      "|         4.8|        3.4|         1.6|        0.2| setosa|\n",
      "|         4.8|        3.0|         1.4|        0.1| setosa|\n",
      "|         4.3|        3.0|         1.1|        0.1| setosa|\n",
      "|         5.8|        4.0|         1.2|        0.2| setosa|\n",
      "|         5.7|        4.4|         1.5|        0.4| setosa|\n",
      "|         5.4|        3.9|         1.3|        0.4| setosa|\n",
      "|         5.1|        3.5|         1.4|        0.3| setosa|\n",
      "|         5.7|        3.8|         1.7|        0.3| setosa|\n",
      "|         5.1|        3.8|         1.5|        0.3| setosa|\n",
      "+------------+-----------+------------+-----------+-------+\n",
      "only showing top 20 rows\n",
      "\n"
     ]
    }
   ],
   "source": [
    "df.show()"
   ]
  },
  {
   "cell_type": "code",
   "execution_count": 5,
   "metadata": {},
   "outputs": [],
   "source": [
    "from pyspark.sql.functions import col\n",
    "#df3=df.withColumnRenamed('Petal.Width', \"Petal_Width\")\n",
    "df=df.toDF(*[i.replace(\".\",\"\") for i in df.columns])"
   ]
  },
  {
   "cell_type": "code",
   "execution_count": 12,
   "metadata": {},
   "outputs": [
    {
     "name": "stdout",
     "output_type": "stream",
     "text": [
      "+-----------+----------+-----------+----------+-------+\n",
      "|SepalLength|SepalWidth|PetalLength|PetalWidth|Species|\n",
      "+-----------+----------+-----------+----------+-------+\n",
      "|        5.1|       3.5|        1.4|       0.2| setosa|\n",
      "|        4.9|       3.0|        1.4|       0.2| setosa|\n",
      "|        4.7|       3.2|        1.3|       0.2| setosa|\n",
      "|        4.6|       3.1|        1.5|       0.2| setosa|\n",
      "|        5.0|       3.6|        1.4|       0.2| setosa|\n",
      "|        5.4|       3.9|        1.7|       0.4| setosa|\n",
      "|        4.6|       3.4|        1.4|       0.3| setosa|\n",
      "|        5.0|       3.4|        1.5|       0.2| setosa|\n",
      "|        4.4|       2.9|        1.4|       0.2| setosa|\n",
      "|        4.9|       3.1|        1.5|       0.1| setosa|\n",
      "|        5.4|       3.7|        1.5|       0.2| setosa|\n",
      "|        4.8|       3.4|        1.6|       0.2| setosa|\n",
      "|        4.8|       3.0|        1.4|       0.1| setosa|\n",
      "|        4.3|       3.0|        1.1|       0.1| setosa|\n",
      "|        5.8|       4.0|        1.2|       0.2| setosa|\n",
      "|        5.7|       4.4|        1.5|       0.4| setosa|\n",
      "|        5.4|       3.9|        1.3|       0.4| setosa|\n",
      "|        5.1|       3.5|        1.4|       0.3| setosa|\n",
      "|        5.7|       3.8|        1.7|       0.3| setosa|\n",
      "|        5.1|       3.8|        1.5|       0.3| setosa|\n",
      "+-----------+----------+-----------+----------+-------+\n",
      "only showing top 20 rows\n",
      "\n"
     ]
    }
   ],
   "source": [
    "df.show()"
   ]
  },
  {
   "cell_type": "code",
   "execution_count": 6,
   "metadata": {},
   "outputs": [],
   "source": [
    "from pyspark.sql.window import Window\n",
    "import pyspark.sql.functions as F"
   ]
  },
  {
   "cell_type": "code",
   "execution_count": 7,
   "metadata": {},
   "outputs": [
    {
     "name": "stdout",
     "output_type": "stream",
     "text": [
      "+-----------+----------+-----------+----------+---------+------------------+\n",
      "|SepalLength|SepalWidth|PetalLength|PetalWidth|  Species|           cum_sum|\n",
      "+-----------+----------+-----------+----------+---------+------------------+\n",
      "|        7.7|       3.8|        6.7|       2.2|virginica|               7.6|\n",
      "|        7.9|       3.8|        6.4|       2.0|virginica|               7.6|\n",
      "|        7.2|       3.6|        6.1|       2.5|virginica|              11.2|\n",
      "|        6.3|       3.4|        5.6|       2.4|virginica|              18.0|\n",
      "|        6.2|       3.4|        5.4|       2.3|virginica|              18.0|\n",
      "|        6.3|       3.3|        6.0|       2.5|virginica|27.900000000000002|\n",
      "|        6.7|       3.3|        5.7|       2.1|virginica|27.900000000000002|\n",
      "|        6.7|       3.3|        5.7|       2.5|virginica|27.900000000000002|\n",
      "|        6.5|       3.2|        5.1|       2.0|virginica| 43.90000000000001|\n",
      "|        6.4|       3.2|        5.3|       2.3|virginica| 43.90000000000001|\n",
      "|        6.9|       3.2|        5.7|       2.3|virginica| 43.90000000000001|\n",
      "|        7.2|       3.2|        6.0|       1.8|virginica| 43.90000000000001|\n",
      "|        6.8|       3.2|        5.9|       2.3|virginica| 43.90000000000001|\n",
      "|        6.4|       3.1|        5.5|       1.8|virginica| 56.30000000000002|\n",
      "|        6.9|       3.1|        5.4|       2.1|virginica| 56.30000000000002|\n",
      "|        6.7|       3.1|        5.6|       2.4|virginica| 56.30000000000002|\n",
      "|        6.9|       3.1|        5.1|       2.3|virginica| 56.30000000000002|\n",
      "|        7.1|       3.0|        5.9|       2.1|virginica| 92.30000000000001|\n",
      "|        6.5|       3.0|        5.8|       2.2|virginica| 92.30000000000001|\n",
      "|        7.6|       3.0|        6.6|       2.1|virginica| 92.30000000000001|\n",
      "+-----------+----------+-----------+----------+---------+------------------+\n",
      "only showing top 20 rows\n",
      "\n"
     ]
    }
   ],
   "source": [
    "w = Window.partitionBy(df['Species']).orderBy(df['SepalWidth'].desc())\n",
    "df_cumsum = df.withColumn('cum_sum', F.sum(df['SepalWidth']).over(w))\n",
    "df_cumsum.show() # simple sort column"
   ]
  },
  {
   "cell_type": "code",
   "execution_count": 66,
   "metadata": {},
   "outputs": [
    {
     "name": "stdout",
     "output_type": "stream",
     "text": [
      "+-----------+----------+-----------+----------+---------+\n",
      "|SepalLength|SepalWidth|PetalLength|PetalWidth|  Species|\n",
      "+-----------+----------+-----------+----------+---------+\n",
      "|        7.7|       3.8|        6.7|       2.2|virginica|\n",
      "+-----------+----------+-----------+----------+---------+\n",
      "\n"
     ]
    }
   ],
   "source": [
    "df.filter(df['SepalWidth']>3.5).filter(df['PetalLength']>6.5).show()"
   ]
  },
  {
   "cell_type": "code",
   "execution_count": 8,
   "metadata": {},
   "outputs": [],
   "source": [
    "df=df.withColumn('test',F.when(df['SepalLength']>df['SepalWidth']*2,1).otherwise(0))"
   ]
  },
  {
   "cell_type": "code",
   "execution_count": 16,
   "metadata": {},
   "outputs": [
    {
     "name": "stdout",
     "output_type": "stream",
     "text": [
      "+-----------+----------+-----------+----------+---------+----+\n",
      "|SepalLength|SepalWidth|PetalLength|PetalWidth|  Species|test|\n",
      "+-----------+----------+-----------+----------+---------+----+\n",
      "|        5.7|       4.4|        1.5|       0.4|   setosa|   0|\n",
      "|        5.5|       4.2|        1.4|       0.2|   setosa|   0|\n",
      "|        5.2|       4.1|        1.5|       0.1|   setosa|   0|\n",
      "|        5.8|       4.0|        1.2|       0.2|   setosa|   0|\n",
      "|        5.4|       3.9|        1.7|       0.4|   setosa|   0|\n",
      "|        5.4|       3.9|        1.3|       0.4|   setosa|   0|\n",
      "|        7.9|       3.8|        6.4|       2.0|virginica|   1|\n",
      "|        5.1|       3.8|        1.5|       0.3|   setosa|   0|\n",
      "|        7.7|       3.8|        6.7|       2.2|virginica|   1|\n",
      "|        5.7|       3.8|        1.7|       0.3|   setosa|   0|\n",
      "|        5.1|       3.8|        1.9|       0.4|   setosa|   0|\n",
      "|        5.1|       3.8|        1.6|       0.2|   setosa|   0|\n",
      "|        5.4|       3.7|        1.5|       0.2|   setosa|   0|\n",
      "|        5.3|       3.7|        1.5|       0.2|   setosa|   0|\n",
      "|        5.1|       3.7|        1.5|       0.4|   setosa|   0|\n",
      "|        4.9|       3.6|        1.4|       0.1|   setosa|   0|\n",
      "|        5.0|       3.6|        1.4|       0.2|   setosa|   0|\n",
      "|        7.2|       3.6|        6.1|       2.5|virginica|   0|\n",
      "|        4.6|       3.6|        1.0|       0.2|   setosa|   0|\n",
      "|        5.1|       3.5|        1.4|       0.3|   setosa|   0|\n",
      "+-----------+----------+-----------+----------+---------+----+\n",
      "only showing top 20 rows\n",
      "\n"
     ]
    }
   ],
   "source": [
    "df.orderBy(df['SepalWidth'].desc()).show()"
   ]
  },
  {
   "cell_type": "code",
   "execution_count": 9,
   "metadata": {},
   "outputs": [],
   "source": [
    "window=Window.partitionBy(df['Species']).orderBy(df['SepalLength'].desc())\n",
    "df=df.withColumn('lag',F.lag(df['PetalWidth']).over(window))"
   ]
  },
  {
   "cell_type": "code",
   "execution_count": 10,
   "metadata": {},
   "outputs": [],
   "source": [
    "df=df.withColumn('new',F.when((F.isnull(df['lag']))| (df['test']==0), 1    ).otherwise(0))"
   ]
  },
  {
   "cell_type": "code",
   "execution_count": 11,
   "metadata": {},
   "outputs": [
    {
     "name": "stdout",
     "output_type": "stream",
     "text": [
      "+-----------+----------+-----------+----------+---------+----+----+---+\n",
      "|SepalLength|SepalWidth|PetalLength|PetalWidth|  Species|test| lag|new|\n",
      "+-----------+----------+-----------+----------+---------+----+----+---+\n",
      "|        7.9|       3.8|        6.4|       2.0|virginica|   1|null|  1|\n",
      "|        7.7|       3.8|        6.7|       2.2|virginica|   1| 2.0|  0|\n",
      "|        7.7|       2.6|        6.9|       2.3|virginica|   1| 2.2|  0|\n",
      "|        7.7|       2.8|        6.7|       2.0|virginica|   1| 2.3|  0|\n",
      "|        7.7|       3.0|        6.1|       2.3|virginica|   1| 2.0|  0|\n",
      "|        7.6|       3.0|        6.6|       2.1|virginica|   1| 2.3|  0|\n",
      "|        7.4|       2.8|        6.1|       1.9|virginica|   1| 2.1|  0|\n",
      "|        7.3|       2.9|        6.3|       1.8|virginica|   1| 1.9|  0|\n",
      "|        7.2|       3.6|        6.1|       2.5|virginica|   0| 1.8|  1|\n",
      "|        7.2|       3.2|        6.0|       1.8|virginica|   1| 2.5|  0|\n",
      "|        7.2|       3.0|        5.8|       1.6|virginica|   1| 1.8|  0|\n",
      "|        7.1|       3.0|        5.9|       2.1|virginica|   1| 1.6|  0|\n",
      "|        6.9|       3.2|        5.7|       2.3|virginica|   1| 2.1|  0|\n",
      "|        6.9|       3.1|        5.4|       2.1|virginica|   1| 2.3|  0|\n",
      "|        6.9|       3.1|        5.1|       2.3|virginica|   1| 2.1|  0|\n",
      "|        6.8|       3.0|        5.5|       2.1|virginica|   1| 2.3|  0|\n",
      "|        6.8|       3.2|        5.9|       2.3|virginica|   1| 2.1|  0|\n",
      "|        6.7|       2.5|        5.8|       1.8|virginica|   1| 2.3|  0|\n",
      "|        6.7|       3.3|        5.7|       2.1|virginica|   1| 1.8|  0|\n",
      "|        6.7|       3.1|        5.6|       2.4|virginica|   1| 2.1|  0|\n",
      "+-----------+----------+-----------+----------+---------+----+----+---+\n",
      "only showing top 20 rows\n",
      "\n"
     ]
    }
   ],
   "source": [
    "df.show()"
   ]
  },
  {
   "cell_type": "code",
   "execution_count": 12,
   "metadata": {},
   "outputs": [],
   "source": [
    "from pyspark.sql.types import FloatType,IntegerType\n",
    "from pyspark.sql.functions import udf\n",
    "\n",
    "#udf doesn't support window function \n",
    "\n",
    "udf_test1=udf(lambda x:x+1.0,FloatType())\n",
    "udf_test2=udf(lambda x,y:x+y, FloatType())"
   ]
  },
  {
   "cell_type": "code",
   "execution_count": 14,
   "metadata": {},
   "outputs": [
    {
     "name": "stdout",
     "output_type": "stream",
     "text": [
      "+-----------+----------+-----------+----------+---------+----+----+---+---+\n",
      "|SepalLength|SepalWidth|PetalLength|PetalWidth|  Species|test| lag|new|udf|\n",
      "+-----------+----------+-----------+----------+---------+----+----+---+---+\n",
      "|        7.9|       3.8|        6.4|       2.0|virginica|   1|null|  1|3.0|\n",
      "|        7.7|       3.8|        6.7|       2.2|virginica|   1| 2.0|  0|3.2|\n",
      "|        7.7|       2.6|        6.9|       2.3|virginica|   1| 2.2|  0|3.3|\n",
      "|        7.7|       2.8|        6.7|       2.0|virginica|   1| 2.3|  0|3.0|\n",
      "|        7.7|       3.0|        6.1|       2.3|virginica|   1| 2.0|  0|3.3|\n",
      "|        7.6|       3.0|        6.6|       2.1|virginica|   1| 2.3|  0|3.1|\n",
      "|        7.4|       2.8|        6.1|       1.9|virginica|   1| 2.1|  0|2.9|\n",
      "|        7.3|       2.9|        6.3|       1.8|virginica|   1| 1.9|  0|2.8|\n",
      "|        7.2|       3.6|        6.1|       2.5|virginica|   0| 1.8|  1|3.5|\n",
      "|        7.2|       3.2|        6.0|       1.8|virginica|   1| 2.5|  0|2.8|\n",
      "|        7.2|       3.0|        5.8|       1.6|virginica|   1| 1.8|  0|2.6|\n",
      "|        7.1|       3.0|        5.9|       2.1|virginica|   1| 1.6|  0|3.1|\n",
      "|        6.9|       3.2|        5.7|       2.3|virginica|   1| 2.1|  0|3.3|\n",
      "|        6.9|       3.1|        5.4|       2.1|virginica|   1| 2.3|  0|3.1|\n",
      "|        6.9|       3.1|        5.1|       2.3|virginica|   1| 2.1|  0|3.3|\n",
      "|        6.8|       3.0|        5.5|       2.1|virginica|   1| 2.3|  0|3.1|\n",
      "|        6.8|       3.2|        5.9|       2.3|virginica|   1| 2.1|  0|3.3|\n",
      "|        6.7|       2.5|        5.8|       1.8|virginica|   1| 2.3|  0|2.8|\n",
      "|        6.7|       3.3|        5.7|       2.1|virginica|   1| 1.8|  0|3.1|\n",
      "|        6.7|       3.1|        5.6|       2.4|virginica|   1| 2.1|  0|3.4|\n",
      "+-----------+----------+-----------+----------+---------+----+----+---+---+\n",
      "only showing top 20 rows\n",
      "\n"
     ]
    }
   ],
   "source": [
    "df.withColumn('udf',udf_test1('PetalWidth')).show()"
   ]
  },
  {
   "cell_type": "code",
   "execution_count": 48,
   "metadata": {},
   "outputs": [
    {
     "name": "stdout",
     "output_type": "stream",
     "text": [
      "+-----------+----------+-----------+----------+---------+----+----+---+-----+\n",
      "|SepalLength|SepalWidth|PetalLength|PetalWidth|  Species|test| lag|new|udf_2|\n",
      "+-----------+----------+-----------+----------+---------+----+----+---+-----+\n",
      "|        7.9|       3.8|        6.4|       2.0|virginica|   1|null|  1| 11.7|\n",
      "|        7.7|       3.8|        6.7|       2.2|virginica|   1| 2.0|  0| 11.5|\n",
      "|        7.7|       2.6|        6.9|       2.3|virginica|   1| 2.2|  0| 10.3|\n",
      "|        7.7|       2.8|        6.7|       2.0|virginica|   1| 2.3|  0| 10.5|\n",
      "|        7.7|       3.0|        6.1|       2.3|virginica|   1| 2.0|  0| 10.7|\n",
      "|        7.6|       3.0|        6.6|       2.1|virginica|   1| 2.3|  0| 10.6|\n",
      "|        7.4|       2.8|        6.1|       1.9|virginica|   1| 2.1|  0| 10.2|\n",
      "|        7.3|       2.9|        6.3|       1.8|virginica|   1| 1.9|  0| 10.2|\n",
      "|        7.2|       3.6|        6.1|       2.5|virginica|   0| 1.8|  1| 10.8|\n",
      "|        7.2|       3.2|        6.0|       1.8|virginica|   1| 2.5|  0| 10.4|\n",
      "|        7.2|       3.0|        5.8|       1.6|virginica|   1| 1.8|  0| 10.2|\n",
      "|        7.1|       3.0|        5.9|       2.1|virginica|   1| 1.6|  0| 10.1|\n",
      "|        6.9|       3.2|        5.7|       2.3|virginica|   1| 2.1|  0| 10.1|\n",
      "|        6.9|       3.1|        5.4|       2.1|virginica|   1| 2.3|  0| 10.0|\n",
      "|        6.9|       3.1|        5.1|       2.3|virginica|   1| 2.1|  0| 10.0|\n",
      "|        6.8|       3.0|        5.5|       2.1|virginica|   1| 2.3|  0|  9.8|\n",
      "|        6.8|       3.2|        5.9|       2.3|virginica|   1| 2.1|  0| 10.0|\n",
      "|        6.7|       2.5|        5.8|       1.8|virginica|   1| 2.3|  0|  9.2|\n",
      "|        6.7|       3.3|        5.7|       2.1|virginica|   1| 1.8|  0| 10.0|\n",
      "|        6.7|       3.1|        5.6|       2.4|virginica|   1| 2.1|  0|  9.8|\n",
      "+-----------+----------+-----------+----------+---------+----+----+---+-----+\n",
      "only showing top 20 rows\n",
      "\n"
     ]
    }
   ],
   "source": [
    "df.withColumn('udf_2',udf_test2('SepalLength','SepalWidth')).show()"
   ]
  },
  {
   "cell_type": "code",
   "execution_count": 19,
   "metadata": {},
   "outputs": [
    {
     "name": "stdout",
     "output_type": "stream",
     "text": [
      "+----------+------------------+\n",
      "|   Species|               sum|\n",
      "+----------+------------------+\n",
      "| virginica|             148.7|\n",
      "|versicolor|138.50000000000003|\n",
      "|    setosa|171.40000000000003|\n",
      "+----------+------------------+\n",
      "\n"
     ]
    }
   ],
   "source": [
    "df.groupBy('Species').agg({'SepalWidth':'sum'}).select('Species',F.col(\"sum(SepalWidth)\").alias(\"sum\")).show()"
   ]
  },
  {
   "cell_type": "code",
   "execution_count": 28,
   "metadata": {},
   "outputs": [
    {
     "data": {
      "text/plain": [
       "<matplotlib.axes._subplots.AxesSubplot at 0x1afad630>"
      ]
     },
     "execution_count": 28,
     "metadata": {},
     "output_type": "execute_result"
    },
    {
     "data": {
      "image/png": "[encoded data removed]",
      "text/plain": [
       "<Figure size 432x288 with 1 Axes>"
      ]
     },
     "metadata": {
      "needs_background": "light"
     },
     "output_type": "display_data"
    }
   ],
   "source": [
    "import matplotlib.pyplot as plt\n",
    "import seaborn as sns\n",
    "import pandas as pd\n",
    "\n",
    "x=df.groupBy('Species').count().toPandas()\n",
    "sns.barplot(x='Species',y='count',data=x)"
   ]
  },
  {
   "cell_type": "code",
   "execution_count": 56,
   "metadata": {},
   "outputs": [
    {
     "name": "stdout",
     "output_type": "stream",
     "text": [
      "+-----------------+\n",
      "|              avg|\n",
      "+-----------------+\n",
      "|3.057333333333334|\n",
      "+-----------------+\n",
      "\n"
     ]
    }
   ],
   "source": [
    "from pyspark.sql.functions import countDistinct, avg, stddev\n",
    "df.select(avg('SepalWidth').alias('avg')).show()"
   ]
  },
  {
   "cell_type": "code",
   "execution_count": null,
   "metadata": {},
   "outputs": [],
   "source": []
  }
 ],
 "metadata": {
  "kernelspec": {
   "display_name": "Python 3",
   "language": "python",
   "name": "python3"
  },
  "language_info": {
   "codemirror_mode": {
    "name": "ipython",
    "version": 3
   },
   "file_extension": ".py",
   "mimetype": "text/x-python",
   "name": "python",
   "nbconvert_exporter": "python",
   "pygments_lexer": "ipython3",
   "version": "3.7.3"
  }
 },
 "nbformat": 4,
 "nbformat_minor": 4
}
