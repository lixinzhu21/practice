{
 "cells": [
  {
   "cell_type": "code",
   "execution_count": 4,
   "metadata": {
    "collapsed": true
   },
   "outputs": [],
   "source": [
    "import "
   ]
  },
  {
   "cell_type": "code",
   "execution_count": 130,
   "metadata": {},
   "outputs": [],
   "source": [
    "import oauth2 as oauth\n",
    "import urllib.request as urllib\n",
    "\n",
    "# See assignment1.html instructions or README for how to get these credentials\n",
    "\n",
    "api_key = \"xeUDJXfuGRo0os6uvUcCQwnJ9\"\n",
    "api_secret = \"GHuyssdjFiEs0jSyJkqQsFZqrCg3b0Sda4UzR50FGR7A6rwTNR\"\n",
    "access_token_key = \"1733486516-E8MRF38JM4FPQehPRjGySfnd0Bb3C7L8f7YFbo1\"\n",
    "access_token_secret = \"kxlONgtEKlFVlJLUCIWJX34QVg6D8xCwf6p2K7yKvNSLC\"\n",
    "\n",
    "_debug = 0\n",
    "\n",
    "oauth_token    = oauth.Token(key=access_token_key, secret=access_token_secret)\n",
    "oauth_consumer = oauth.Consumer(key=api_key, secret=api_secret)\n",
    "\n",
    "signature_method_hmac_sha1 = oauth.SignatureMethod_HMAC_SHA1()\n",
    "\n",
    "http_method = \"GET\"\n",
    "\n",
    "\n",
    "http_handler  = urllib.HTTPHandler(debuglevel=_debug)\n",
    "https_handler = urllib.HTTPSHandler(debuglevel=_debug)\n",
    "\n",
    "'''\n",
    "Construct, sign, and open a twitter request\n",
    "using the hard-coded credentials above.\n",
    "'''\n",
    "def twitterreq(url, method, parameters):\n",
    "  req = oauth.Request.from_consumer_and_token(oauth_consumer,\n",
    "                                             token=oauth_token,\n",
    "                                             http_method=http_method,\n",
    "                                             http_url=url, \n",
    "                                             parameters=parameters)\n",
    "\n",
    "  req.sign_request(signature_method_hmac_sha1, oauth_consumer, oauth_token)\n",
    "\n",
    "  headers = req.to_header()\n",
    "\n",
    "  if http_method == \"POST\":\n",
    "    encoded_post_data = req.to_postdata()\n",
    "  else:\n",
    "    encoded_post_data = None\n",
    "    url = req.to_url()\n",
    "\n",
    "  opener = urllib.OpenerDirector()\n",
    "  opener.add_handler(http_handler)\n",
    "  opener.add_handler(https_handler)\n",
    "\n",
    "  response = opener.open(url, encoded_post_data)\n",
    "\n",
    "  return response\n",
    "\n",
    "\n",
    " # url = \"https://stream.twitter.com/1/statuses/sample.json\"\n",
    "url=\"https://api.twitter.com/1.1/search/tweets.json?q=trump\"\n",
    "parameters = []\n",
    "response = twitterreq(url, \"GET\", parameters)\n",
    "x=json.load(response)  #JSON.LOADS ONLY FOR STRING\n",
    "    \n",
    "        \n",
    "        \n",
    "\n",
    "\n"
   ]
  },
  {
   "cell_type": "code",
   "execution_count": 2,
   "metadata": {
    "collapsed": true
   },
   "outputs": [],
   "source": [
    "import tweepy\n",
    "from tweepy import OAuthHandler"
   ]
  },
  {
   "cell_type": "code",
   "execution_count": 4,
   "metadata": {},
   "outputs": [],
   "source": [
    "api_key = \"xeUDJXfuGRo0os6uvUcCQwnJ9\"\n",
    "api_secret = \"GHuyssdjFiEs0jSyJkqQsFZqrCg3b0Sda4UzR50FGR7A6rwTNR\"\n",
    "access_token_key = \"1733486516-E8MRF38JM4FPQehPRjGySfnd0Bb3C7L8f7YFbo1\"\n",
    "access_token_secret = \"kxlONgtEKlFVlJLUCIWJX34QVg6D8xCwf6p2K7yKvNSLC\"\n",
    "auth = OAuthHandler(api_key, api_secret)\n",
    "auth.set_access_token(access_token_key, access_token_secret)\n",
    " \n",
    "api = tweepy.API(auth)"
   ]
  },
  {
   "cell_type": "code",
   "execution_count": 174,
   "metadata": {},
   "outputs": [
    {
     "name": "stdout",
     "output_type": "stream",
     "text": [
      "If Congress fails, again, to rewrite immigration legislation, Trump has little choice but to uphold the laws on the… https://t.co/dNg6i98Oqa\n"
     ]
    },
    {
     "data": {
      "text/plain": [
       "15"
      ]
     },
     "execution_count": 174,
     "metadata": {},
     "output_type": "execute_result"
    }
   ],
   "source": [
    "print(x[\"statuses\"][14][\"text\"])\n",
    "len(x[\"statuses\"])"
   ]
  },
  {
   "cell_type": "code",
   "execution_count": 95,
   "metadata": {},
   "outputs": [
    {
     "name": "stdout",
     "output_type": "stream",
     "text": [
      "('abandon', -2)\n"
     ]
    }
   ],
   "source": [
    "afinnfile = open(\"AFINN-111.txt\")\n",
    "scores = {} # initialize an empty dictionary\n",
    "for line in afinnfile:\n",
    "  term, score  = line.split(\"\\t\")  # The file is tab-delimited. \"\\t\" means \"tab character\"\n",
    "  scores[term] = int(score)  # Convert the score to an integer.\n",
    "\n",
    "print(list(scores.items())[0])  "
   ]
  },
  {
   "cell_type": "code",
   "execution_count": 105,
   "metadata": {},
   "outputs": [
    {
     "data": {
      "text/plain": [
       "-2"
      ]
     },
     "execution_count": 105,
     "metadata": {},
     "output_type": "execute_result"
    }
   ],
   "source": [
    "scores['abandon']"
   ]
  },
  {
   "cell_type": "code",
   "execution_count": 216,
   "metadata": {
    "collapsed": true
   },
   "outputs": [],
   "source": [
    "def cal(data):\n",
    "        import string\n",
    "        import re\n",
    "        data = re.sub(',', '', data)\n",
    "        x=data.split()\n",
    "        n=len(x)\n",
    "        s=0\n",
    "        for j in range(0,n):\n",
    "            if x[j] in scores.keys():\n",
    "                s=s+scores[x[j]]\n",
    "            else:\n",
    "                s=s\n",
    "        return(s/n)        "
   ]
  },
  {
   "cell_type": "code",
   "execution_count": 217,
   "metadata": {},
   "outputs": [],
   "source": [
    "result={}\n",
    "for i in range(0,15):\n",
    "    a={'text':x[\"statuses\"][i][\"text\"],'marks':cal(x[\"statuses\"][i][\"text\"])}\n",
    "    result[i]=a\n",
    "    "
   ]
  },
  {
   "cell_type": "code",
   "execution_count": 218,
   "metadata": {},
   "outputs": [
    {
     "data": {
      "text/plain": [
       "{0: {'marks': 0.21428571428571427,\n",
       "  'text': 'RT @TheDemocrats: The Trumps believe their #TrumpShutdown is \"a good thing for us.\" https://t.co/f7tIpjDcSr'},\n",
       " 1: {'marks': 0.0,\n",
       "  'text': 'RT @ThisWeekABC: With President Trump calling on Republicans to end the filibuster if the shutdown continues, @SenatorDurbin tells @GStepha…'},\n",
       " 2: {'marks': -0.16666666666666666,\n",
       "  'text': 'RT @EdKrassen: On January 30th, there is a national boycott of Trump’s State of the Union address.  I’m calling on everyone to boycott the…'},\n",
       " 3: {'marks': 0.0,\n",
       "  'text': 'RT @SwampyTrump: trump on campaign: “Only I can fix Washington!”\\n\\n@POTUS trump with both houses in @GOP control: Government shuts down. \\n\\nW…'},\n",
       " 4: {'marks': 0.0,\n",
       "  'text': 'RT @CNNPolitics: Sen. Tammy Duckworth blasts President Trump as a \"draft dodger\" https://t.co/GkkVN2CdYt https://t.co/Sm94ZohOtc'},\n",
       " 5: {'marks': -0.09523809523809523,\n",
       "  'text': 'RT @womensmarchlon: While @piersmorgan is off no doubt licking his wounds &amp; asking @realDonaldTrump for advice, can we take this opportunit…'},\n",
       " 6: {'marks': 0.1,\n",
       "  'text': 'RT @BillKristol: On the first anniversary of the Trump presidency, conservative commentators seem eager to provide evidence, as @JVLast arg…'},\n",
       " 7: {'marks': 0.0,\n",
       "  'text': '@OlsenCurtis1 😂I feel that Curt!! Gotta get Trump to see your tweet in that case'},\n",
       " 8: {'marks': 0.0,\n",
       "  'text': 'RT @ChuckRossDC: FBI Agents Spoke Of ‘Pressure’ To Wrap Up Clinton Probe As Trump Surged To GOP Nomination https://t.co/ZrgjemKVul via @dai…'},\n",
       " 9: {'marks': 0.0,\n",
       "  'text': \"RT @Bubbali44019324: @thehill @Headerop1 That's probably why Trump made the appointment\"},\n",
       " 10: {'marks': -0.08,\n",
       "  'text': \"RT @Shareblue: Trump and the GOP have failed to protect military pay as President Obama did during the 2013 shutdown. But that's not what M…\"},\n",
       " 11: {'marks': 0.1111111111111111,\n",
       "  'text': '@JaneMayerNYer @HuffPostPol TWO FREE AUDIOBOOKS with one month free trial! Then one free audiobook every month with… https://t.co/AVsGtW4nzn'},\n",
       " 12: {'marks': 0.0,\n",
       "  'text': 'Duckworth to Trump: I won’t be lectured by draft dodger https://t.co/7jOocxG6cb https://t.co/1PHYuIC7eY'},\n",
       " 13: {'marks': 0.08,\n",
       "  'text': 'RT @kylegriffin1: A former Trump campaign worker appointed at age 23 to a top position in the White House’s drug policy office had been let…'},\n",
       " 14: {'marks': -0.1,\n",
       "  'text': 'If Congress fails, again, to rewrite immigration legislation, Trump has little choice but to uphold the laws on the… https://t.co/dNg6i98Oqa'}}"
      ]
     },
     "execution_count": 218,
     "metadata": {},
     "output_type": "execute_result"
    }
   ],
   "source": [
    "result"
   ]
  },
  {
   "cell_type": "code",
   "execution_count": null,
   "metadata": {
    "collapsed": true
   },
   "outputs": [],
   "source": []
  }
 ],
 "metadata": {
  "kernelspec": {
   "display_name": "Python 3",
   "language": "python",
   "name": "python3"
  },
  "language_info": {
   "codemirror_mode": {
    "name": "ipython",
    "version": 3
   },
   "file_extension": ".py",
   "mimetype": "text/x-python",
   "name": "python",
   "nbconvert_exporter": "python",
   "pygments_lexer": "ipython3",
   "version": "3.6.1"
  }
 },
 "nbformat": 4,
 "nbformat_minor": 2
}
