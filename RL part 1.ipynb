{
 "cells": [
  {
   "cell_type": "code",
   "execution_count": 2,
   "metadata": {},
   "outputs": [
    {
     "data": {
      "application/vnd.jupyter.widget-view+json": {
       "model_id": "9fc82a44085f4816af1031a781c149b3",
       "version_major": 2,
       "version_minor": 0
      },
      "text/plain": [
       "FigureCanvasNbAgg()"
      ]
     },
     "metadata": {},
     "output_type": "display_data"
    }
   ],
   "source": [
    "#epsilon method\n",
    "\n",
    "\n",
    "import numpy as np\n",
    "from scipy import stats\n",
    "import random\n",
    "import matplotlib.pyplot as plt\n",
    "\n",
    "%matplotlib widget\n",
    "\n",
    "\n",
    "n = 10\n",
    "arms = np.random.rand(n)\n",
    "eps = 0.1\n",
    "\n",
    "def reward(prob):\n",
    "  reward = 0;\n",
    "  for i in range(10):\n",
    "    if random.random() < prob:\n",
    "      reward += 1\n",
    "  return reward\n",
    "\n",
    "\n",
    "av = np.array([np.random.randint(0, (n+1)), 0]).reshape(1,2)\n",
    "\n",
    "def bestArm(a):\n",
    "  bestArm = 0\n",
    "  bestMean = 0\n",
    "  for u in a:\n",
    "    avg = np.mean(a[np.where(a[:,0] == u[0])][:, 1])\n",
    "    if bestMean < avg:\n",
    "      bestMean = avg\n",
    "      bestArm = u[0]\n",
    "  return bestArm\n",
    "\n",
    "  \n",
    "  \n",
    "plt.xlabel(\"Plays\")\n",
    "plt.ylabel(\"Avg Reward\")\n",
    "for i in range(500):\n",
    "  if random.random() > eps:\n",
    "    choice = bestArm(av)\n",
    "    thisAV = np.array([[choice, reward(arms[choice])]])\n",
    "    av = np.concatenate((av, thisAV), axis = 0)\n",
    "  else:\n",
    "    choice = np.where(arms == np.random.choice(arms))[0][0]\n",
    "    thisAV = np.array([[choice, reward(arms[choice])]])\n",
    "    av = np.concatenate((av, thisAV), axis = 0)\n",
    "  percCorrect = 100*(len(av[np.where(av[:,0] == np.argmax(arms))])/len(av))\n",
    "  runningMean = np.mean(av[:,1])\n",
    "  plt.scatter(i, runningMean)"
   ]
  },
  {
   "cell_type": "code",
   "execution_count": 34,
   "metadata": {},
   "outputs": [
    {
     "data": {
      "application/vnd.jupyter.widget-view+json": {
       "model_id": "",
       "version_major": 2,
       "version_minor": 0
      },
      "text/plain": [
       "FigureCanvasNbAgg()"
      ]
     },
     "metadata": {},
     "output_type": "display_data"
    }
   ],
   "source": [
    "#Optimise memory usage\n",
    "\n",
    "n = 10\n",
    "arms = np.random.rand(n)\n",
    "eps = 0.1\n",
    "\n",
    "av = np.ones(n) #initialise action-value array\n",
    "counts = np.zeros(n) #stores countes of how many times we've taken a particular action\n",
    "\n",
    "def reward(prob):\n",
    "    total = 0;\n",
    "    for i in range(10):\n",
    "        if random.random() < prob:\n",
    "            total += 1\n",
    "    return total\n",
    "\n",
    "#our bestAarm function is much simpler now\n",
    "def bestArm(a):\n",
    "    return np.argmax(a) #returns index of element with greatest value\n",
    "\n",
    "%matplotlib widget\n",
    "\n",
    "plt.xlabel(\"Plays\")\n",
    "plt.ylabel(\"Mean Reward\")\n",
    "for i in range(500):\n",
    "    if random.random() > eps:\n",
    "        choice = bestArm(av)\n",
    "        counts[choice] += 1\n",
    "        k = counts[choice]\n",
    "        rwd = reward(arms[choice])\n",
    "        old_avg = av[choice]\n",
    "        new_avg = old_avg + (1/k)*(rwd - old_avg) #update running avg\n",
    "        av[choice] = new_avg\n",
    "    else:\n",
    "        choice = np.where(arms == np.random.choice(arms))[0][0] #randomly choose an arm (returns index)\n",
    "        counts[choice] += 1\n",
    "        k = counts[choice]\n",
    "        rwd = reward(arms[choice])\n",
    "        old_avg = av[choice]\n",
    "        new_avg = old_avg + (1/k)*(rwd - old_avg) #update running avg\n",
    "        av[choice] = new_avg\n",
    "    #have to use np.average and supply the weights to get a weighted average\n",
    "    runningMean = np.average(av, weights = np.array([counts[j]/np.sum(counts) for j in range(len(counts))]))\n",
    "    plt.scatter(i, runningMean)\n",
    "        "
   ]
  },
  {
   "cell_type": "code",
   "execution_count": 37,
   "metadata": {},
   "outputs": [
    {
     "data": {
      "image/png": "[encoded data removed]",
      "text/plain": [
       "<Figure size 432x288 with 1 Axes>"
      ]
     },
     "metadata": {
      "needs_background": "light"
     },
     "output_type": "display_data"
    }
   ],
   "source": [
    "#softmax for random selection\n",
    "\n",
    "%matplotlib inline\n",
    "\n",
    "n = 10\n",
    "arms = np.random.rand(n)\n",
    "\n",
    "av = np.ones(n) #initialize action-value array, stores running reward mean\n",
    "counts = np.zeros(n) #stores counts of how many times we've taken a particular action\n",
    "#stores our softmax-generated probability ranks for each action\n",
    "av_softmax = np.zeros(n)\n",
    "av_softmax[:] = 0.1 #initialize each action to have equal probability\n",
    "\n",
    "def reward(prob):\n",
    "    total = 0;\n",
    "    for i in range(10):\n",
    "        if random.random() < prob:\n",
    "            total += 1\n",
    "    return total\n",
    "\n",
    "tau = 1.12 #tau was selected by trial and error\n",
    "def softmax(av):\n",
    "    probs = np.zeros(n)\n",
    "    for i in range(n):\n",
    "        softm = ( np.exp(av[i] / tau) / np.sum( np.exp(av[:] / tau) ) )\n",
    "        probs[i] = softm\n",
    "    return probs\n",
    "\n",
    "plt.xlabel(\"Plays\")\n",
    "plt.ylabel(\"Mean Reward\")\n",
    "for i in range(500):\n",
    "    #select random arm using weighted probability distribution\n",
    "    choice = np.where(arms == np.random.choice(arms, p=av_softmax))[0][0]\n",
    "    counts[choice] += 1\n",
    "    k = counts[choice]\n",
    "    rwd =  reward(arms[choice])\n",
    "    old_avg = av[choice]\n",
    "    new_avg = old_avg + (1/k)*(rwd - old_avg)\n",
    "    av[choice] = new_avg\n",
    "    av_softmax = softmax(av) #update softmax probabilities for next play\n",
    "        \n",
    "    runningMean = np.average(av, weights=np.array([counts[j]/np.sum(counts) for j in range(len(counts))]))\n",
    "    plt.scatter(i, runningMean)\n"
   ]
  },
  {
   "cell_type": "code",
   "execution_count": null,
   "metadata": {},
   "outputs": [],
   "source": []
  },
  {
   "cell_type": "code",
   "execution_count": null,
   "metadata": {},
   "outputs": [],
   "source": []
  },
  {
   "cell_type": "code",
   "execution_count": null,
   "metadata": {},
   "outputs": [],
   "source": []
  },
  {
   "cell_type": "code",
   "execution_count": null,
   "metadata": {},
   "outputs": [],
   "source": []
  },
  {
   "cell_type": "code",
   "execution_count": null,
   "metadata": {},
   "outputs": [],
   "source": []
  },
  {
   "cell_type": "code",
   "execution_count": null,
   "metadata": {},
   "outputs": [],
   "source": []
  },
  {
   "cell_type": "code",
   "execution_count": null,
   "metadata": {},
   "outputs": [],
   "source": []
  }
 ],
 "metadata": {
  "kernelspec": {
   "display_name": "Python 3",
   "language": "python",
   "name": "python3"
  },
  "language_info": {
   "codemirror_mode": {
    "name": "ipython",
    "version": 3
   },
   "file_extension": ".py",
   "mimetype": "text/x-python",
   "name": "python",
   "nbconvert_exporter": "python",
   "pygments_lexer": "ipython3",
   "version": "3.7.1"
  }
 },
 "nbformat": 4,
 "nbformat_minor": 2
}
