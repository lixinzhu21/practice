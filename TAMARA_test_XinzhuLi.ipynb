{
 "cells": [
  {
   "cell_type": "code",
   "execution_count": 1,
   "metadata": {},
   "outputs": [],
   "source": [
    "import pandas as pd \n",
    "import numpy as np \n",
    "import matplotlib.pyplot as plt \n",
    "import seaborn as sns\n",
    "import math\n",
    "import time\n",
    "plt.style.use('ggplot')\n",
    "pd.set_option('display.max_columns',None)\n",
    "import warnings\n",
    "warnings.filterwarnings('ignore')"
   ]
  },
  {
   "cell_type": "markdown",
   "metadata": {},
   "source": [
    "# Read data"
   ]
  },
  {
   "cell_type": "code",
   "execution_count": 56,
   "metadata": {},
   "outputs": [
    {
     "data": {
      "text/html": [
       "<div>\n",
       "<style scoped>\n",
       "    .dataframe tbody tr th:only-of-type {\n",
       "        vertical-align: middle;\n",
       "    }\n",
       "\n",
       "    .dataframe tbody tr th {\n",
       "        vertical-align: top;\n",
       "    }\n",
       "\n",
       "    .dataframe thead th {\n",
       "        text-align: right;\n",
       "    }\n",
       "</style>\n",
       "<table border=\"1\" class=\"dataframe\">\n",
       "  <thead>\n",
       "    <tr style=\"text-align: right;\">\n",
       "      <th></th>\n",
       "      <th>created_at</th>\n",
       "      <th>id_order</th>\n",
       "      <th>customer_id</th>\n",
       "      <th>merchant_id</th>\n",
       "      <th>merchant_category</th>\n",
       "      <th>payment_type</th>\n",
       "      <th>status</th>\n",
       "      <th>total_amount</th>\n",
       "      <th>canceled_amount</th>\n",
       "      <th>captured_amount</th>\n",
       "      <th>refunded_amount</th>\n",
       "      <th>paid_amount</th>\n",
       "    </tr>\n",
       "  </thead>\n",
       "  <tbody>\n",
       "    <tr>\n",
       "      <td>0</td>\n",
       "      <td>2020-12-01 00:00:03</td>\n",
       "      <td>ab9676f0-0008-4b93-9e7b-edbff2766485</td>\n",
       "      <td>617f2620-7892-435c-a7da-615dbf5dfe12</td>\n",
       "      <td>dfd4c10a-3367-46a6-b763-6f3ae80f20b8</td>\n",
       "      <td>Entertainment</td>\n",
       "      <td>PAY_BY_INSTALMENTS</td>\n",
       "      <td>expired</td>\n",
       "      <td>1701.3339</td>\n",
       "      <td>0.0</td>\n",
       "      <td>0.0</td>\n",
       "      <td>0.0</td>\n",
       "      <td>0.0</td>\n",
       "    </tr>\n",
       "    <tr>\n",
       "      <td>1</td>\n",
       "      <td>2020-12-01 00:00:12</td>\n",
       "      <td>461dff8f-e6c9-498e-803d-5521ba962bd6</td>\n",
       "      <td>f00d8884-83c0-4e89-9af9-9835ce800b91</td>\n",
       "      <td>31f2f0e4-64d6-4924-a4ef-e1c5a5fc73c4</td>\n",
       "      <td>Pets</td>\n",
       "      <td>PAY_BY_INSTALMENTS</td>\n",
       "      <td>expired</td>\n",
       "      <td>344.2700</td>\n",
       "      <td>0.0</td>\n",
       "      <td>0.0</td>\n",
       "      <td>0.0</td>\n",
       "      <td>0.0</td>\n",
       "    </tr>\n",
       "    <tr>\n",
       "      <td>2</td>\n",
       "      <td>2020-12-01 00:00:15</td>\n",
       "      <td>d9f676c3-5d99-4abe-94f0-fb25800ba022</td>\n",
       "      <td>4547fc95-4a8a-433d-85de-aa2a69e7f8aa</td>\n",
       "      <td>dfd4c10a-3367-46a6-b763-6f3ae80f20b8</td>\n",
       "      <td>Entertainment</td>\n",
       "      <td>PAY_BY_INSTALMENTS</td>\n",
       "      <td>expired</td>\n",
       "      <td>1092.5469</td>\n",
       "      <td>0.0</td>\n",
       "      <td>0.0</td>\n",
       "      <td>0.0</td>\n",
       "      <td>0.0</td>\n",
       "    </tr>\n",
       "    <tr>\n",
       "      <td>3</td>\n",
       "      <td>2020-12-01 00:00:25</td>\n",
       "      <td>1aee78e7-a794-4151-a1f9-35d7505c22c5</td>\n",
       "      <td>78f4a7eb-aac3-459e-830d-69f82b2af2b1</td>\n",
       "      <td>dfd4c10a-3367-46a6-b763-6f3ae80f20b8</td>\n",
       "      <td>Entertainment</td>\n",
       "      <td>PAY_BY_INSTALMENTS</td>\n",
       "      <td>declined</td>\n",
       "      <td>419.0752</td>\n",
       "      <td>0.0</td>\n",
       "      <td>0.0</td>\n",
       "      <td>0.0</td>\n",
       "      <td>0.0</td>\n",
       "    </tr>\n",
       "    <tr>\n",
       "      <td>4</td>\n",
       "      <td>2020-12-01 00:00:26</td>\n",
       "      <td>a5a8a473-bb43-4dac-b881-4a944bb6bf49</td>\n",
       "      <td>4378ab3c-97f9-41e5-8631-b7f1f6dffdcc</td>\n",
       "      <td>d1dd20c5-a977-4d59-92bf-cf98fd38e192</td>\n",
       "      <td>Pets</td>\n",
       "      <td>PAY_BY_LATER</td>\n",
       "      <td>declined</td>\n",
       "      <td>616.7450</td>\n",
       "      <td>0.0</td>\n",
       "      <td>0.0</td>\n",
       "      <td>0.0</td>\n",
       "      <td>0.0</td>\n",
       "    </tr>\n",
       "  </tbody>\n",
       "</table>\n",
       "</div>"
      ],
      "text/plain": [
       "            created_at                              id_order  \\\n",
       "0  2020-12-01 00:00:03  ab9676f0-0008-4b93-9e7b-edbff2766485   \n",
       "1  2020-12-01 00:00:12  461dff8f-e6c9-498e-803d-5521ba962bd6   \n",
       "2  2020-12-01 00:00:15  d9f676c3-5d99-4abe-94f0-fb25800ba022   \n",
       "3  2020-12-01 00:00:25  1aee78e7-a794-4151-a1f9-35d7505c22c5   \n",
       "4  2020-12-01 00:00:26  a5a8a473-bb43-4dac-b881-4a944bb6bf49   \n",
       "\n",
       "                            customer_id                           merchant_id  \\\n",
       "0  617f2620-7892-435c-a7da-615dbf5dfe12  dfd4c10a-3367-46a6-b763-6f3ae80f20b8   \n",
       "1  f00d8884-83c0-4e89-9af9-9835ce800b91  31f2f0e4-64d6-4924-a4ef-e1c5a5fc73c4   \n",
       "2  4547fc95-4a8a-433d-85de-aa2a69e7f8aa  dfd4c10a-3367-46a6-b763-6f3ae80f20b8   \n",
       "3  78f4a7eb-aac3-459e-830d-69f82b2af2b1  dfd4c10a-3367-46a6-b763-6f3ae80f20b8   \n",
       "4  4378ab3c-97f9-41e5-8631-b7f1f6dffdcc  d1dd20c5-a977-4d59-92bf-cf98fd38e192   \n",
       "\n",
       "  merchant_category        payment_type    status  total_amount  \\\n",
       "0     Entertainment  PAY_BY_INSTALMENTS   expired     1701.3339   \n",
       "1              Pets  PAY_BY_INSTALMENTS   expired      344.2700   \n",
       "2     Entertainment  PAY_BY_INSTALMENTS   expired     1092.5469   \n",
       "3     Entertainment  PAY_BY_INSTALMENTS  declined      419.0752   \n",
       "4              Pets        PAY_BY_LATER  declined      616.7450   \n",
       "\n",
       "   canceled_amount  captured_amount  refunded_amount  paid_amount  \n",
       "0              0.0              0.0              0.0          0.0  \n",
       "1              0.0              0.0              0.0          0.0  \n",
       "2              0.0              0.0              0.0          0.0  \n",
       "3              0.0              0.0              0.0          0.0  \n",
       "4              0.0              0.0              0.0          0.0  "
      ]
     },
     "execution_count": 56,
     "metadata": {},
     "output_type": "execute_result"
    }
   ],
   "source": [
    "order=pd.read_csv('/Users/didi/Downloads/orders.csv')\n",
    "order.head()"
   ]
  },
  {
   "cell_type": "code",
   "execution_count": 57,
   "metadata": {},
   "outputs": [
    {
     "data": {
      "text/html": [
       "<div>\n",
       "<style scoped>\n",
       "    .dataframe tbody tr th:only-of-type {\n",
       "        vertical-align: middle;\n",
       "    }\n",
       "\n",
       "    .dataframe tbody tr th {\n",
       "        vertical-align: top;\n",
       "    }\n",
       "\n",
       "    .dataframe thead th {\n",
       "        text-align: right;\n",
       "    }\n",
       "</style>\n",
       "<table border=\"1\" class=\"dataframe\">\n",
       "  <thead>\n",
       "    <tr style=\"text-align: right;\">\n",
       "      <th></th>\n",
       "      <th>id</th>\n",
       "      <th>event_id</th>\n",
       "      <th>order_id</th>\n",
       "      <th>event_name</th>\n",
       "      <th>payload</th>\n",
       "      <th>created_at</th>\n",
       "    </tr>\n",
       "  </thead>\n",
       "  <tbody>\n",
       "    <tr>\n",
       "      <td>0</td>\n",
       "      <td>523307</td>\n",
       "      <td>cca17a50-4eda-443d-bfef-4956aea16a00</td>\n",
       "      <td>e4342982-9d4e-4b41-a673-c8ff488df622</td>\n",
       "      <td>Tamara\\Component\\Order\\Model\\Event\\OrderWasDec...</td>\n",
       "      <td>{\"to\": \"declined\", \"from\": \"new\", \"order_id\": ...</td>\n",
       "      <td>2020-09-23 13:20:42</td>\n",
       "    </tr>\n",
       "    <tr>\n",
       "      <td>1</td>\n",
       "      <td>3132240</td>\n",
       "      <td>7ea10ed8-0dd2-4a66-a9b2-d92d1932baf6</td>\n",
       "      <td>1aee78e7-a794-4151-a1f9-35d7505c22c5</td>\n",
       "      <td>Tamara\\Component\\Order\\Model\\Event\\OrderWasDec...</td>\n",
       "      <td>{\"to\": \"declined\", \"from\": \"new\", \"order_id\": ...</td>\n",
       "      <td>2020-12-01 00:00:26</td>\n",
       "    </tr>\n",
       "    <tr>\n",
       "      <td>2</td>\n",
       "      <td>3132252</td>\n",
       "      <td>6e3f30e8-42bb-48a7-a4ca-41288e2d93dd</td>\n",
       "      <td>59dc3853-5bd7-44d7-a9c4-6518c4364f38</td>\n",
       "      <td>Tamara\\Component\\Order\\Model\\Event\\OrderWasDec...</td>\n",
       "      <td>{\"to\": \"declined\", \"from\": \"new\", \"order_id\": ...</td>\n",
       "      <td>2020-12-01 00:00:31</td>\n",
       "    </tr>\n",
       "    <tr>\n",
       "      <td>3</td>\n",
       "      <td>3132278</td>\n",
       "      <td>4ef45052-226c-47ca-901d-567ca34384c8</td>\n",
       "      <td>a5a8a473-bb43-4dac-b881-4a944bb6bf49</td>\n",
       "      <td>Tamara\\Component\\Order\\Model\\Event\\OrderWasDec...</td>\n",
       "      <td>{\"to\": \"declined\", \"from\": \"new\", \"order_id\": ...</td>\n",
       "      <td>2020-12-01 00:00:48</td>\n",
       "    </tr>\n",
       "    <tr>\n",
       "      <td>4</td>\n",
       "      <td>3132521</td>\n",
       "      <td>95e41b14-fd3a-437a-a978-07235f5c548a</td>\n",
       "      <td>5346eade-47c6-474f-8bc2-a5f8b3e54be5</td>\n",
       "      <td>Tamara\\Component\\Order\\Model\\Event\\OrderWasDec...</td>\n",
       "      <td>{\"to\": \"declined\", \"from\": \"new\", \"order_id\": ...</td>\n",
       "      <td>2020-12-01 00:03:27</td>\n",
       "    </tr>\n",
       "  </tbody>\n",
       "</table>\n",
       "</div>"
      ],
      "text/plain": [
       "        id                              event_id  \\\n",
       "0   523307  cca17a50-4eda-443d-bfef-4956aea16a00   \n",
       "1  3132240  7ea10ed8-0dd2-4a66-a9b2-d92d1932baf6   \n",
       "2  3132252  6e3f30e8-42bb-48a7-a4ca-41288e2d93dd   \n",
       "3  3132278  4ef45052-226c-47ca-901d-567ca34384c8   \n",
       "4  3132521  95e41b14-fd3a-437a-a978-07235f5c548a   \n",
       "\n",
       "                               order_id  \\\n",
       "0  e4342982-9d4e-4b41-a673-c8ff488df622   \n",
       "1  1aee78e7-a794-4151-a1f9-35d7505c22c5   \n",
       "2  59dc3853-5bd7-44d7-a9c4-6518c4364f38   \n",
       "3  a5a8a473-bb43-4dac-b881-4a944bb6bf49   \n",
       "4  5346eade-47c6-474f-8bc2-a5f8b3e54be5   \n",
       "\n",
       "                                          event_name  \\\n",
       "0  Tamara\\Component\\Order\\Model\\Event\\OrderWasDec...   \n",
       "1  Tamara\\Component\\Order\\Model\\Event\\OrderWasDec...   \n",
       "2  Tamara\\Component\\Order\\Model\\Event\\OrderWasDec...   \n",
       "3  Tamara\\Component\\Order\\Model\\Event\\OrderWasDec...   \n",
       "4  Tamara\\Component\\Order\\Model\\Event\\OrderWasDec...   \n",
       "\n",
       "                                             payload           created_at  \n",
       "0  {\"to\": \"declined\", \"from\": \"new\", \"order_id\": ...  2020-09-23 13:20:42  \n",
       "1  {\"to\": \"declined\", \"from\": \"new\", \"order_id\": ...  2020-12-01 00:00:26  \n",
       "2  {\"to\": \"declined\", \"from\": \"new\", \"order_id\": ...  2020-12-01 00:00:31  \n",
       "3  {\"to\": \"declined\", \"from\": \"new\", \"order_id\": ...  2020-12-01 00:00:48  \n",
       "4  {\"to\": \"declined\", \"from\": \"new\", \"order_id\": ...  2020-12-01 00:03:27  "
      ]
     },
     "execution_count": 57,
     "metadata": {},
     "output_type": "execute_result"
    }
   ],
   "source": [
    "event=pd.read_csv('/Users/didi/Downloads/order_events.csv')\n",
    "event.head()"
   ]
  },
  {
   "cell_type": "code",
   "execution_count": 58,
   "metadata": {},
   "outputs": [
    {
     "data": {
      "text/html": [
       "<div>\n",
       "<style scoped>\n",
       "    .dataframe tbody tr th:only-of-type {\n",
       "        vertical-align: middle;\n",
       "    }\n",
       "\n",
       "    .dataframe tbody tr th {\n",
       "        vertical-align: top;\n",
       "    }\n",
       "\n",
       "    .dataframe thead th {\n",
       "        text-align: right;\n",
       "    }\n",
       "</style>\n",
       "<table border=\"1\" class=\"dataframe\">\n",
       "  <thead>\n",
       "    <tr style=\"text-align: right;\">\n",
       "      <th></th>\n",
       "      <th>id_payment</th>\n",
       "      <th>payment_type</th>\n",
       "      <th>order_id</th>\n",
       "      <th>customer_id</th>\n",
       "      <th>merchant_id</th>\n",
       "      <th>status</th>\n",
       "      <th>total_amount</th>\n",
       "      <th>refunded_amount</th>\n",
       "      <th>paid_amount</th>\n",
       "      <th>pending_paid_amount</th>\n",
       "      <th>issued_refund_amount</th>\n",
       "      <th>refund_shipping_fee_amount</th>\n",
       "      <th>late_fee_amount</th>\n",
       "      <th>due_date</th>\n",
       "      <th>paid_date</th>\n",
       "      <th>last_late_fee_recorded_at</th>\n",
       "      <th>created_at</th>\n",
       "      <th>updated_at</th>\n",
       "    </tr>\n",
       "  </thead>\n",
       "  <tbody>\n",
       "    <tr>\n",
       "      <td>0</td>\n",
       "      <td>3aa8a70c-094f-47ea-8565-bedfe110de12</td>\n",
       "      <td>1</td>\n",
       "      <td>408aaf00-020c-40c3-9442-c25dad818cab</td>\n",
       "      <td>96092838-726b-49d1-a732-e8061a61cfca</td>\n",
       "      <td>dfd4c10a-3367-46a6-b763-6f3ae80f20b8</td>\n",
       "      <td>refunded</td>\n",
       "      <td>278.5300</td>\n",
       "      <td>278.5300</td>\n",
       "      <td>0.0</td>\n",
       "      <td>0.0</td>\n",
       "      <td>0.0</td>\n",
       "      <td>0.0</td>\n",
       "      <td>0.0</td>\n",
       "      <td>2020-12-01 00:00:59</td>\n",
       "      <td>NaN</td>\n",
       "      <td>NaN</td>\n",
       "      <td>2020-12-01 00:00:59</td>\n",
       "      <td>2020-12-01 04:48:49</td>\n",
       "    </tr>\n",
       "    <tr>\n",
       "      <td>1</td>\n",
       "      <td>125b477f-e9b4-4024-b239-e380feea69c9</td>\n",
       "      <td>1</td>\n",
       "      <td>a6042519-84f7-405f-aa02-2c3dd5f8c9f5</td>\n",
       "      <td>1d0035b2-5767-47ba-b031-8733e1100cd3</td>\n",
       "      <td>9a672058-e4c3-450d-a969-883d9dd01576</td>\n",
       "      <td>refunded</td>\n",
       "      <td>65.0653</td>\n",
       "      <td>65.0653</td>\n",
       "      <td>0.0</td>\n",
       "      <td>0.0</td>\n",
       "      <td>0.0</td>\n",
       "      <td>0.0</td>\n",
       "      <td>0.0</td>\n",
       "      <td>2020-12-01 00:01:23</td>\n",
       "      <td>NaN</td>\n",
       "      <td>NaN</td>\n",
       "      <td>2020-12-01 00:01:23</td>\n",
       "      <td>2020-12-01 04:48:50</td>\n",
       "    </tr>\n",
       "    <tr>\n",
       "      <td>2</td>\n",
       "      <td>7d382b36-f542-4407-bd83-d579dc3b4f11</td>\n",
       "      <td>1</td>\n",
       "      <td>d3c90eca-b9c5-4066-9b27-cdf78c71ed6b</td>\n",
       "      <td>20eb3cb6-2bfd-40bb-81fd-ab9795201663</td>\n",
       "      <td>dfd4c10a-3367-46a6-b763-6f3ae80f20b8</td>\n",
       "      <td>refunded</td>\n",
       "      <td>154.5582</td>\n",
       "      <td>154.5582</td>\n",
       "      <td>0.0</td>\n",
       "      <td>0.0</td>\n",
       "      <td>0.0</td>\n",
       "      <td>0.0</td>\n",
       "      <td>0.0</td>\n",
       "      <td>2020-12-01 00:01:06</td>\n",
       "      <td>NaN</td>\n",
       "      <td>NaN</td>\n",
       "      <td>2020-12-01 00:01:06</td>\n",
       "      <td>2020-12-01 04:48:50</td>\n",
       "    </tr>\n",
       "    <tr>\n",
       "      <td>3</td>\n",
       "      <td>e435c958-3c76-4a73-b0e7-052352269811</td>\n",
       "      <td>1</td>\n",
       "      <td>6934d07b-b925-43a8-8c63-745d0f5e314b</td>\n",
       "      <td>1a0da936-27e8-4496-abb3-c44ab57ffb18</td>\n",
       "      <td>4d5d27f2-1e29-4de7-bef0-a3bde125d281</td>\n",
       "      <td>refunded</td>\n",
       "      <td>456.6162</td>\n",
       "      <td>456.6162</td>\n",
       "      <td>0.0</td>\n",
       "      <td>0.0</td>\n",
       "      <td>0.0</td>\n",
       "      <td>0.0</td>\n",
       "      <td>0.0</td>\n",
       "      <td>2020-12-01 00:01:20</td>\n",
       "      <td>NaN</td>\n",
       "      <td>NaN</td>\n",
       "      <td>2020-12-01 00:01:20</td>\n",
       "      <td>2020-12-01 04:48:50</td>\n",
       "    </tr>\n",
       "    <tr>\n",
       "      <td>4</td>\n",
       "      <td>a4943649-8a96-4b1c-9b43-bdaca6505244</td>\n",
       "      <td>1</td>\n",
       "      <td>b60319e4-8fb9-4210-8569-f32eb7fbb1d5</td>\n",
       "      <td>dd12cb95-64d4-4c41-a49a-0c5b5154526c</td>\n",
       "      <td>dfd4c10a-3367-46a6-b763-6f3ae80f20b8</td>\n",
       "      <td>refunded</td>\n",
       "      <td>264.2921</td>\n",
       "      <td>264.2921</td>\n",
       "      <td>0.0</td>\n",
       "      <td>0.0</td>\n",
       "      <td>0.0</td>\n",
       "      <td>0.0</td>\n",
       "      <td>0.0</td>\n",
       "      <td>2020-12-01 00:05:30</td>\n",
       "      <td>NaN</td>\n",
       "      <td>NaN</td>\n",
       "      <td>2020-12-01 00:05:30</td>\n",
       "      <td>2020-12-01 04:48:52</td>\n",
       "    </tr>\n",
       "  </tbody>\n",
       "</table>\n",
       "</div>"
      ],
      "text/plain": [
       "                             id_payment  payment_type  \\\n",
       "0  3aa8a70c-094f-47ea-8565-bedfe110de12             1   \n",
       "1  125b477f-e9b4-4024-b239-e380feea69c9             1   \n",
       "2  7d382b36-f542-4407-bd83-d579dc3b4f11             1   \n",
       "3  e435c958-3c76-4a73-b0e7-052352269811             1   \n",
       "4  a4943649-8a96-4b1c-9b43-bdaca6505244             1   \n",
       "\n",
       "                               order_id                           customer_id  \\\n",
       "0  408aaf00-020c-40c3-9442-c25dad818cab  96092838-726b-49d1-a732-e8061a61cfca   \n",
       "1  a6042519-84f7-405f-aa02-2c3dd5f8c9f5  1d0035b2-5767-47ba-b031-8733e1100cd3   \n",
       "2  d3c90eca-b9c5-4066-9b27-cdf78c71ed6b  20eb3cb6-2bfd-40bb-81fd-ab9795201663   \n",
       "3  6934d07b-b925-43a8-8c63-745d0f5e314b  1a0da936-27e8-4496-abb3-c44ab57ffb18   \n",
       "4  b60319e4-8fb9-4210-8569-f32eb7fbb1d5  dd12cb95-64d4-4c41-a49a-0c5b5154526c   \n",
       "\n",
       "                            merchant_id    status  total_amount  \\\n",
       "0  dfd4c10a-3367-46a6-b763-6f3ae80f20b8  refunded      278.5300   \n",
       "1  9a672058-e4c3-450d-a969-883d9dd01576  refunded       65.0653   \n",
       "2  dfd4c10a-3367-46a6-b763-6f3ae80f20b8  refunded      154.5582   \n",
       "3  4d5d27f2-1e29-4de7-bef0-a3bde125d281  refunded      456.6162   \n",
       "4  dfd4c10a-3367-46a6-b763-6f3ae80f20b8  refunded      264.2921   \n",
       "\n",
       "   refunded_amount  paid_amount  pending_paid_amount  issued_refund_amount  \\\n",
       "0         278.5300          0.0                  0.0                   0.0   \n",
       "1          65.0653          0.0                  0.0                   0.0   \n",
       "2         154.5582          0.0                  0.0                   0.0   \n",
       "3         456.6162          0.0                  0.0                   0.0   \n",
       "4         264.2921          0.0                  0.0                   0.0   \n",
       "\n",
       "   refund_shipping_fee_amount  late_fee_amount             due_date paid_date  \\\n",
       "0                         0.0              0.0  2020-12-01 00:00:59       NaN   \n",
       "1                         0.0              0.0  2020-12-01 00:01:23       NaN   \n",
       "2                         0.0              0.0  2020-12-01 00:01:06       NaN   \n",
       "3                         0.0              0.0  2020-12-01 00:01:20       NaN   \n",
       "4                         0.0              0.0  2020-12-01 00:05:30       NaN   \n",
       "\n",
       "  last_late_fee_recorded_at           created_at           updated_at  \n",
       "0                       NaN  2020-12-01 00:00:59  2020-12-01 04:48:49  \n",
       "1                       NaN  2020-12-01 00:01:23  2020-12-01 04:48:50  \n",
       "2                       NaN  2020-12-01 00:01:06  2020-12-01 04:48:50  \n",
       "3                       NaN  2020-12-01 00:01:20  2020-12-01 04:48:50  \n",
       "4                       NaN  2020-12-01 00:05:30  2020-12-01 04:48:52  "
      ]
     },
     "execution_count": 58,
     "metadata": {},
     "output_type": "execute_result"
    }
   ],
   "source": [
    "pay=pd.read_csv('/Users/didi/Downloads/payments.csv')\n",
    "pay.head()"
   ]
  },
  {
   "cell_type": "markdown",
   "metadata": {},
   "source": [
    "# Exploratory analysis"
   ]
  },
  {
   "cell_type": "code",
   "execution_count": 5,
   "metadata": {},
   "outputs": [
    {
     "data": {
      "text/plain": [
       "(979609, 12)"
      ]
     },
     "execution_count": 5,
     "metadata": {},
     "output_type": "execute_result"
    }
   ],
   "source": [
    "# check data size\n",
    "order.shape"
   ]
  },
  {
   "cell_type": "code",
   "execution_count": 6,
   "metadata": {},
   "outputs": [
    {
     "data": {
      "text/plain": [
       "(1212093, 6)"
      ]
     },
     "execution_count": 6,
     "metadata": {},
     "output_type": "execute_result"
    }
   ],
   "source": [
    "event.shape"
   ]
  },
  {
   "cell_type": "code",
   "execution_count": 7,
   "metadata": {},
   "outputs": [
    {
     "data": {
      "text/plain": [
       "(655757, 18)"
      ]
     },
     "execution_count": 7,
     "metadata": {},
     "output_type": "execute_result"
    }
   ],
   "source": [
    "pay.shape"
   ]
  },
  {
   "cell_type": "code",
   "execution_count": 8,
   "metadata": {},
   "outputs": [
    {
     "data": {
      "text/plain": [
       "created_at            object\n",
       "id_order              object\n",
       "customer_id           object\n",
       "merchant_id           object\n",
       "merchant_category     object\n",
       "payment_type          object\n",
       "status                object\n",
       "total_amount         float64\n",
       "canceled_amount      float64\n",
       "captured_amount      float64\n",
       "refunded_amount      float64\n",
       "paid_amount          float64\n",
       "dtype: object"
      ]
     },
     "execution_count": 8,
     "metadata": {},
     "output_type": "execute_result"
    }
   ],
   "source": [
    "# check data type \n",
    "order.dtypes"
   ]
  },
  {
   "cell_type": "code",
   "execution_count": 9,
   "metadata": {},
   "outputs": [
    {
     "data": {
      "text/plain": [
       "id             int64\n",
       "event_id      object\n",
       "order_id      object\n",
       "event_name    object\n",
       "payload       object\n",
       "created_at    object\n",
       "dtype: object"
      ]
     },
     "execution_count": 9,
     "metadata": {},
     "output_type": "execute_result"
    }
   ],
   "source": [
    "event.dtypes"
   ]
  },
  {
   "cell_type": "code",
   "execution_count": 10,
   "metadata": {},
   "outputs": [
    {
     "data": {
      "text/plain": [
       "id_payment                     object\n",
       "payment_type                    int64\n",
       "order_id                       object\n",
       "customer_id                    object\n",
       "merchant_id                    object\n",
       "status                         object\n",
       "total_amount                  float64\n",
       "refunded_amount               float64\n",
       "paid_amount                   float64\n",
       "pending_paid_amount           float64\n",
       "issued_refund_amount          float64\n",
       "refund_shipping_fee_amount    float64\n",
       "late_fee_amount               float64\n",
       "due_date                       object\n",
       "paid_date                      object\n",
       "last_late_fee_recorded_at      object\n",
       "created_at                     object\n",
       "updated_at                     object\n",
       "dtype: object"
      ]
     },
     "execution_count": 10,
     "metadata": {},
     "output_type": "execute_result"
    }
   ],
   "source": [
    "pay.dtypes"
   ]
  },
  {
   "cell_type": "code",
   "execution_count": 64,
   "metadata": {},
   "outputs": [],
   "source": [
    "# drop duplicates \n",
    "order=order.drop_duplicates()\n",
    "event=event.drop_duplicates()\n",
    "pay=pay.drop_duplicates()"
   ]
  },
  {
   "cell_type": "code",
   "execution_count": 12,
   "metadata": {},
   "outputs": [
    {
     "data": {
      "text/plain": [
       "979609"
      ]
     },
     "execution_count": 12,
     "metadata": {},
     "output_type": "execute_result"
    }
   ],
   "source": [
    "# check unique values of order_id\n",
    "order.id_order.nunique()"
   ]
  },
  {
   "cell_type": "code",
   "execution_count": 13,
   "metadata": {},
   "outputs": [
    {
     "data": {
      "text/plain": [
       "979463"
      ]
     },
     "execution_count": 13,
     "metadata": {},
     "output_type": "execute_result"
    }
   ],
   "source": [
    "event.order_id.nunique()"
   ]
  },
  {
   "cell_type": "code",
   "execution_count": 14,
   "metadata": {},
   "outputs": [
    {
     "data": {
      "text/plain": [
       "280237"
      ]
     },
     "execution_count": 14,
     "metadata": {},
     "output_type": "execute_result"
    }
   ],
   "source": [
    "pay.order_id.nunique()"
   ]
  },
  {
   "cell_type": "code",
   "execution_count": 15,
   "metadata": {},
   "outputs": [
    {
     "data": {
      "text/plain": [
       "created_at                0\n",
       "id_order                  0\n",
       "customer_id          220628\n",
       "merchant_id               0\n",
       "merchant_category         0\n",
       "payment_type              0\n",
       "status                    0\n",
       "total_amount              0\n",
       "canceled_amount           0\n",
       "captured_amount           0\n",
       "refunded_amount           0\n",
       "paid_amount               0\n",
       "dtype: int64"
      ]
     },
     "execution_count": 15,
     "metadata": {},
     "output_type": "execute_result"
    }
   ],
   "source": [
    "# check missing values\n",
    "order.isnull().sum()"
   ]
  },
  {
   "cell_type": "code",
   "execution_count": 16,
   "metadata": {},
   "outputs": [
    {
     "data": {
      "text/plain": [
       "id            0\n",
       "event_id      0\n",
       "order_id      0\n",
       "event_name    0\n",
       "payload       0\n",
       "created_at    0\n",
       "dtype: int64"
      ]
     },
     "execution_count": 16,
     "metadata": {},
     "output_type": "execute_result"
    }
   ],
   "source": [
    "event.isnull().sum()"
   ]
  },
  {
   "cell_type": "code",
   "execution_count": 17,
   "metadata": {},
   "outputs": [
    {
     "data": {
      "text/plain": [
       "id_payment                         0\n",
       "payment_type                       0\n",
       "order_id                           0\n",
       "customer_id                        0\n",
       "merchant_id                        0\n",
       "status                             0\n",
       "total_amount                       0\n",
       "refunded_amount                    0\n",
       "paid_amount                        0\n",
       "pending_paid_amount                0\n",
       "issued_refund_amount               0\n",
       "refund_shipping_fee_amount         0\n",
       "late_fee_amount                    0\n",
       "due_date                           0\n",
       "paid_date                      78921\n",
       "last_late_fee_recorded_at     619337\n",
       "created_at                         0\n",
       "updated_at                         0\n",
       "dtype: int64"
      ]
     },
     "execution_count": 17,
     "metadata": {},
     "output_type": "execute_result"
    }
   ],
   "source": [
    "pay.isnull().sum()"
   ]
  },
  {
   "cell_type": "code",
   "execution_count": 18,
   "metadata": {},
   "outputs": [
    {
     "data": {
      "text/plain": [
       "status\n",
       "authorised               266\n",
       "canceled                6958\n",
       "declined              139302\n",
       "expired               607588\n",
       "fully_captured        217827\n",
       "fully_refunded          3511\n",
       "partially_captured       382\n",
       "partially_refunded      3657\n",
       "updated                  118\n",
       "dtype: int64"
      ]
     },
     "execution_count": 18,
     "metadata": {},
     "output_type": "execute_result"
    }
   ],
   "source": [
    "# check distribution \n",
    "order.groupby('status').size()"
   ]
  },
  {
   "cell_type": "code",
   "execution_count": 19,
   "metadata": {},
   "outputs": [
    {
     "data": {
      "text/plain": [
       "event_name\n",
       "Tamara\\Component\\Order\\Model\\Event\\OrderWasApproved      232610\n",
       "Tamara\\Component\\Order\\Model\\Event\\OrderWasAuthorised    232611\n",
       "Tamara\\Component\\Order\\Model\\Event\\OrderWasDeclined      139312\n",
       "Tamara\\Component\\Order\\Model\\Event\\OrderWasExpired       607560\n",
       "dtype: int64"
      ]
     },
     "execution_count": 19,
     "metadata": {},
     "output_type": "execute_result"
    }
   ],
   "source": [
    "event.groupby('event_name').size()"
   ]
  },
  {
   "cell_type": "code",
   "execution_count": 20,
   "metadata": {},
   "outputs": [
    {
     "data": {
      "text/plain": [
       "status\n",
       "paid                564289\n",
       "pending              12149\n",
       "pending_refunded      2331\n",
       "refunded             76988\n",
       "dtype: int64"
      ]
     },
     "execution_count": 20,
     "metadata": {},
     "output_type": "execute_result"
    }
   ],
   "source": [
    "pay.groupby('status').size()"
   ]
  },
  {
   "cell_type": "code",
   "execution_count": 21,
   "metadata": {},
   "outputs": [
    {
     "data": {
      "image/png": "[encoded data removed]",
      "text/plain": [
       "<Figure size 720x360 with 1 Axes>"
      ]
     },
     "metadata": {
      "needs_background": "light"
     },
     "output_type": "display_data"
    }
   ],
   "source": [
    "plt.figure(figsize=(10,5))\n",
    "plt.hist(order.total_amount,bins=range(0, round(order.total_amount.max()) + 50, 50),label='total orders')\n",
    "plt.hist(order[order.paid_amount>0].total_amount,bins=range(0, round(order.total_amount.max()) + 50, 50),\n",
    "         label='paid orders')\n",
    "plt.hist(order[order.refunded_amount>0].total_amount,bins=range(0, round(order.total_amount.max()) + 50, 50),\n",
    "         label='refunded orders')\n",
    "plt.title('distribution of order value')\n",
    "plt.legend()\n",
    "plt.show()"
   ]
  },
  {
   "cell_type": "markdown",
   "metadata": {},
   "source": [
    "# Q1\n",
    "**Assumptions:** \n",
    "* Deliquency rate is indicator of customer's side, refund is money paying back to customers. So refund with no paid actually made is not included in denominator, # of payments.    \n",
    "(Because we don't know when the refund request is made by customers, we have no idea whether it is a late payment. So in that case, I just eliminate all the refunded orders with 0 paid amount. ) \n",
    "* Defination of paid late payments: after exploring the data, there are many payments with paid date later than due date, but no late fees generated. I believe late fee is not a good indicator for late payments. Whether a payment is late is decided by comparison between due date and paid date. Also payments only late for a few hours on the date as due date are not counted as late. \n",
    "* Defination of unpaid late payments: payments with zero paid amount. Payments with paid amount less than total amount after due date is also classified as unpaid late payments.\n",
    "\n",
    "**Deliquency_rate is 13.43% and Recovery_rate is 83.55%**"
   ]
  },
  {
   "cell_type": "code",
   "execution_count": 59,
   "metadata": {},
   "outputs": [],
   "source": [
    "pay['due_date_new']=pay['due_date'].apply(lambda x:x[:10])\n",
    "pay['paid_date_new']=np.nan\n",
    "pay['paid_date_new'][~pay.paid_date.isnull()]=pay['paid_date'][~pay.paid_date.isnull()].apply(lambda x:x[:10])"
   ]
  },
  {
   "cell_type": "code",
   "execution_count": 60,
   "metadata": {},
   "outputs": [],
   "source": [
    "# calculate number of payments \n",
    "num_of_payments=pay[~((pay.status=='refunded')&(pay.paid_amount==0))].shape[0]\n",
    "# number of refunded payments which is not included\n",
    "refunded_with_no_pay= pay[(pay.status=='refunded')&(pay.paid_amount==0)].shape[0]\n",
    "#number of payments into calculation= number of total payments - number of refunded payments which is not included\n",
    "num_of_payments=pay.shape[0]-refunded_with_no_pay"
   ]
  },
  {
   "cell_type": "code",
   "execution_count": 61,
   "metadata": {},
   "outputs": [],
   "source": [
    "# calculate number of unpaid late payments\n",
    "temp=pay[~((pay.status=='refunded')&(pay.paid_amount==0))]\n",
    "# number of unpaid late payments \n",
    "num_of_totally_unpaid=temp[(temp.paid_amount==0)].shape[0]\n",
    "num_of_partially_unpaid=temp[(temp.paid_amount>0)&(temp.paid_amount<temp.total_amount)\n",
    "                           &(temp.paid_date_new>temp.due_date_new)].shape[0]\n",
    "number_of_unpaid_late=num_of_totally_unpaid+num_of_partially_unpaid"
   ]
  },
  {
   "cell_type": "code",
   "execution_count": 62,
   "metadata": {},
   "outputs": [],
   "source": [
    "# calculate number of paid late payments\n",
    "number_of_paid_late=temp[(temp.paid_amount>0)&(temp.paid_amount==temp.total_amount)\n",
    "                           &(temp.paid_date_new>temp.due_date_new)].shape[0]"
   ]
  },
  {
   "cell_type": "code",
   "execution_count": 63,
   "metadata": {},
   "outputs": [
    {
     "name": "stdout",
     "output_type": "stream",
     "text": [
      "Deliquency_rate is: 13.43%\n",
      "Recovery_rate is: : 83.55%\n"
     ]
    }
   ],
   "source": [
    "deliquency_rate=(number_of_paid_late+number_of_unpaid_late)/num_of_payments\n",
    "recovery_rate=number_of_paid_late/(number_of_paid_late+number_of_unpaid_late)\n",
    "print('Deliquency_rate is: {:.2%}' .format(deliquency_rate))\n",
    "print('Recovery_rate is: : {:.2%}' .format(recovery_rate))"
   ]
  },
  {
   "cell_type": "code",
   "execution_count": 55,
   "metadata": {},
   "outputs": [
    {
     "data": {
      "text/plain": [
       "0.022106464188207168"
      ]
     },
     "execution_count": 55,
     "metadata": {},
     "output_type": "execute_result"
    }
   ],
   "source": [
    "number_of_unpaid_late/num_of_payments"
   ]
  },
  {
   "cell_type": "markdown",
   "metadata": {},
   "source": [
    "# Q2\n",
    "**Assumption:**\n",
    "* I assume multiple attempts to same order means same customer, same merchant, same payment type, same product. Because we don't have product id in table, I assume same product means same merchant category and same order amount. A set of orders with same customer, same merchant, same payment type, same product, same amount is defined as one demand for convenience. \n",
    "* As long as the demand had at least one expiry, and was not successful eventually, the demand is counted. For example, demand with attempts like: expired, expired, canceled, will also be included even epxired is not its final status.   \n",
    "* One demand can last for days. A customer who had expired order yesterday may try to buy the same product today or a few days later. So the gap in time between two attempts is not considered in this case.   \n",
    "\n",
    "**There were 286992 unique orders/demands involved in expiry, and failed eventually.**  "
   ]
  },
  {
   "cell_type": "code",
   "execution_count": 27,
   "metadata": {},
   "outputs": [],
   "source": [
    "# all the demands related to expiry\n",
    "mm=order[order.status=='expired'][[\n",
    "    'customer_id','merchant_id','merchant_category','payment_type','total_amount']].drop_duplicates()\n",
    "\n",
    "# get the last status of each demand\n",
    "last_status= pd.DataFrame(order.sort_values(by='created_at',ascending=True).groupby([\n",
    "    'customer_id','merchant_id','merchant_category','payment_type','total_amount']).status.last())\n",
    "\n",
    "# get the demand with last status as unsuccessfully \n",
    "last_status_unsuccess=last_status[last_status.status.isin(['expired', 'declined','canceled'])].reset_index()"
   ]
  },
  {
   "cell_type": "code",
   "execution_count": 28,
   "metadata": {},
   "outputs": [
    {
     "name": "stdout",
     "output_type": "stream",
     "text": [
      "Number of unique orders/ demands due to expiry is:  286992\n"
     ]
    }
   ],
   "source": [
    "expired_demands=pd.merge(last_status_unsuccess,mm, \n",
    "                         left_on=['customer_id','merchant_id','merchant_category','payment_type','total_amount'],\n",
    "                        right_on=['customer_id','merchant_id','merchant_category','payment_type','total_amount'],\n",
    "                        how='inner')\n",
    "\n",
    "print('Number of unique orders/ demands due to expiry is: ',expired_demands.shape[0])"
   ]
  },
  {
   "cell_type": "markdown",
   "metadata": {},
   "source": [
    "# Q3\n",
    "**There were 210 orders related to wrong late fee issue**, amount of wrong late fees is 10974.  \n",
    "\n",
    "All these orders are with fully capetured status.   \n",
    "These orders shows higher percentage of entertainment category and higher proportion of making payments within 2 days ahead due compared to regular others."
   ]
  },
  {
   "cell_type": "code",
   "execution_count": 29,
   "metadata": {},
   "outputs": [],
   "source": [
    "# get due date rank and paid date rank of each order \n",
    "pay['due_date_unix']=pay['due_date'].apply(lambda x:int(time.mktime(time.strptime(x, \"%Y-%m-%d %H:%M:%S\"))))\n",
    "pay['paid_date_unix']=pay.paid_date.fillna('3000-12-31 00:00:00')\n",
    "pay['paid_date_unix']=pay['paid_date_unix'].apply(lambda x:int(time.mktime(time.strptime(x, \"%Y-%m-%d %H:%M:%S\"))))\n",
    "\n",
    "mmm=pay[pay.payment_type==2]\n",
    "mmm['due_rank']=mmm.groupby('order_id').due_date_unix.rank(method='first')\n",
    "mmm['paid_rank']=mmm.groupby('order_id').paid_date_unix.rank(method='first')"
   ]
  },
  {
   "cell_type": "code",
   "execution_count": 31,
   "metadata": {},
   "outputs": [
    {
     "data": {
      "text/html": [
       "<div>\n",
       "<style scoped>\n",
       "    .dataframe tbody tr th:only-of-type {\n",
       "        vertical-align: middle;\n",
       "    }\n",
       "\n",
       "    .dataframe tbody tr th {\n",
       "        vertical-align: top;\n",
       "    }\n",
       "\n",
       "    .dataframe thead th {\n",
       "        text-align: right;\n",
       "    }\n",
       "</style>\n",
       "<table border=\"1\" class=\"dataframe\">\n",
       "  <thead>\n",
       "    <tr style=\"text-align: right;\">\n",
       "      <th></th>\n",
       "      <th>created_at</th>\n",
       "      <th>id_order</th>\n",
       "      <th>customer_id</th>\n",
       "      <th>merchant_id</th>\n",
       "      <th>merchant_category</th>\n",
       "      <th>payment_type</th>\n",
       "      <th>status</th>\n",
       "      <th>total_amount</th>\n",
       "      <th>canceled_amount</th>\n",
       "      <th>captured_amount</th>\n",
       "      <th>refunded_amount</th>\n",
       "      <th>paid_amount</th>\n",
       "    </tr>\n",
       "  </thead>\n",
       "  <tbody>\n",
       "    <tr>\n",
       "      <td>3498</td>\n",
       "      <td>2020-12-01 08:58:15</td>\n",
       "      <td>6966f7fe-fcdb-4c55-9e37-be54269a0daf</td>\n",
       "      <td>c326e51f-92c4-42ee-96f6-544f8f474a32</td>\n",
       "      <td>18a72c41-f4d9-4627-bb90-0c48fa7b7ba4</td>\n",
       "      <td>Entertainment</td>\n",
       "      <td>PAY_BY_INSTALMENTS</td>\n",
       "      <td>fully_captured</td>\n",
       "      <td>444.6100</td>\n",
       "      <td>0.0</td>\n",
       "      <td>444.6100</td>\n",
       "      <td>0.0</td>\n",
       "      <td>487.8600</td>\n",
       "    </tr>\n",
       "    <tr>\n",
       "      <td>4444</td>\n",
       "      <td>2020-12-01 13:02:28</td>\n",
       "      <td>bc1e33f3-9f97-45a2-8860-6cdccf790ee3</td>\n",
       "      <td>e1fc8e07-aebc-415e-84fc-ec1139aaa6ae</td>\n",
       "      <td>4d5d27f2-1e29-4de7-bef0-a3bde125d281</td>\n",
       "      <td>Gift Cards</td>\n",
       "      <td>PAY_BY_INSTALMENTS</td>\n",
       "      <td>fully_captured</td>\n",
       "      <td>235.3319</td>\n",
       "      <td>0.0</td>\n",
       "      <td>235.3319</td>\n",
       "      <td>0.0</td>\n",
       "      <td>278.5819</td>\n",
       "    </tr>\n",
       "    <tr>\n",
       "      <td>4750</td>\n",
       "      <td>2020-12-01 13:54:48</td>\n",
       "      <td>2f538c9b-83eb-4b04-a373-6dcd868b4d79</td>\n",
       "      <td>71f85be5-1313-4a39-b926-2af3d96c411e</td>\n",
       "      <td>4d5d27f2-1e29-4de7-bef0-a3bde125d281</td>\n",
       "      <td>Gift Cards</td>\n",
       "      <td>PAY_BY_INSTALMENTS</td>\n",
       "      <td>fully_captured</td>\n",
       "      <td>1670.1074</td>\n",
       "      <td>0.0</td>\n",
       "      <td>1670.1074</td>\n",
       "      <td>0.0</td>\n",
       "      <td>1713.3574</td>\n",
       "    </tr>\n",
       "    <tr>\n",
       "      <td>9309</td>\n",
       "      <td>2020-12-01 22:50:27</td>\n",
       "      <td>87dffb3c-b165-4f95-9a56-b54d89a48e6e</td>\n",
       "      <td>ee236342-d182-4465-94f5-365dea32cc9f</td>\n",
       "      <td>36e56a72-b450-4f96-8529-f2745fd8e218</td>\n",
       "      <td>Pets</td>\n",
       "      <td>PAY_BY_INSTALMENTS</td>\n",
       "      <td>fully_captured</td>\n",
       "      <td>510.3500</td>\n",
       "      <td>0.0</td>\n",
       "      <td>510.3500</td>\n",
       "      <td>0.0</td>\n",
       "      <td>596.8500</td>\n",
       "    </tr>\n",
       "    <tr>\n",
       "      <td>10218</td>\n",
       "      <td>2020-12-02 00:10:14</td>\n",
       "      <td>3994f17e-32ec-4f0e-b345-9a6bb3a24bec</td>\n",
       "      <td>2b69f8e8-379a-458a-8f0f-3d174da5c0ae</td>\n",
       "      <td>4d5d27f2-1e29-4de7-bef0-a3bde125d281</td>\n",
       "      <td>Gift Cards</td>\n",
       "      <td>PAY_BY_INSTALMENTS</td>\n",
       "      <td>fully_captured</td>\n",
       "      <td>537.4245</td>\n",
       "      <td>0.0</td>\n",
       "      <td>537.4245</td>\n",
       "      <td>0.0</td>\n",
       "      <td>580.6745</td>\n",
       "    </tr>\n",
       "    <tr>\n",
       "      <td>...</td>\n",
       "      <td>...</td>\n",
       "      <td>...</td>\n",
       "      <td>...</td>\n",
       "      <td>...</td>\n",
       "      <td>...</td>\n",
       "      <td>...</td>\n",
       "      <td>...</td>\n",
       "      <td>...</td>\n",
       "      <td>...</td>\n",
       "      <td>...</td>\n",
       "      <td>...</td>\n",
       "      <td>...</td>\n",
       "    </tr>\n",
       "    <tr>\n",
       "      <td>479277</td>\n",
       "      <td>2021-02-12 21:46:04</td>\n",
       "      <td>8bc2d9b9-e176-4af0-84b8-83f34fa8d681</td>\n",
       "      <td>5e5b7c60-603a-4a7b-a75b-7bbd2bd43dc3</td>\n",
       "      <td>17688580-2fd7-43f6-93a3-838c8e8952fb</td>\n",
       "      <td>Entertainment</td>\n",
       "      <td>PAY_BY_INSTALMENTS</td>\n",
       "      <td>fully_captured</td>\n",
       "      <td>593.3900</td>\n",
       "      <td>0.0</td>\n",
       "      <td>593.3900</td>\n",
       "      <td>0.0</td>\n",
       "      <td>636.6400</td>\n",
       "    </tr>\n",
       "    <tr>\n",
       "      <td>480398</td>\n",
       "      <td>2021-02-12 23:27:16</td>\n",
       "      <td>92b49456-f675-4ae2-9766-3e0618cd6fc9</td>\n",
       "      <td>e00efd39-2df0-4191-bb28-e71475bccb57</td>\n",
       "      <td>dfd4c10a-3367-46a6-b763-6f3ae80f20b8</td>\n",
       "      <td>Entertainment</td>\n",
       "      <td>PAY_BY_INSTALMENTS</td>\n",
       "      <td>fully_captured</td>\n",
       "      <td>445.9767</td>\n",
       "      <td>0.0</td>\n",
       "      <td>445.9767</td>\n",
       "      <td>0.0</td>\n",
       "      <td>489.2267</td>\n",
       "    </tr>\n",
       "    <tr>\n",
       "      <td>500092</td>\n",
       "      <td>2021-02-14 16:33:59</td>\n",
       "      <td>64eb13e2-19e3-47d8-8455-19bdffe9f59e</td>\n",
       "      <td>cec1dc9a-708b-4965-a341-5f2efb470517</td>\n",
       "      <td>8846d13f-b152-4ed2-8238-8ce19ba452db</td>\n",
       "      <td>Gift Cards</td>\n",
       "      <td>PAY_BY_INSTALMENTS</td>\n",
       "      <td>fully_captured</td>\n",
       "      <td>1674.6400</td>\n",
       "      <td>0.0</td>\n",
       "      <td>1674.6400</td>\n",
       "      <td>0.0</td>\n",
       "      <td>1116.4382</td>\n",
       "    </tr>\n",
       "    <tr>\n",
       "      <td>704502</td>\n",
       "      <td>2021-03-06 22:54:45</td>\n",
       "      <td>55babfed-b9de-4f84-adf2-30619f1b2333</td>\n",
       "      <td>8d86d3f2-07d6-4aef-bd3e-1d0b0316e978</td>\n",
       "      <td>f25fd872-fc46-4df2-9eab-c4c648ebc7de</td>\n",
       "      <td>Children Products</td>\n",
       "      <td>PAY_BY_INSTALMENTS</td>\n",
       "      <td>fully_captured</td>\n",
       "      <td>453.6060</td>\n",
       "      <td>0.0</td>\n",
       "      <td>453.6060</td>\n",
       "      <td>0.0</td>\n",
       "      <td>302.4040</td>\n",
       "    </tr>\n",
       "    <tr>\n",
       "      <td>772367</td>\n",
       "      <td>2021-03-13 17:56:51</td>\n",
       "      <td>dd8ea95e-987f-41ff-942a-b1d5450bae6a</td>\n",
       "      <td>66e02b32-cf98-43fa-b382-947f4b3edefc</td>\n",
       "      <td>1b8b976a-7a39-45f0-aad0-a8029d407aa6</td>\n",
       "      <td>Other categories</td>\n",
       "      <td>PAY_BY_INSTALMENTS</td>\n",
       "      <td>fully_captured</td>\n",
       "      <td>2366.6400</td>\n",
       "      <td>0.0</td>\n",
       "      <td>2366.6400</td>\n",
       "      <td>0.0</td>\n",
       "      <td>1577.7600</td>\n",
       "    </tr>\n",
       "  </tbody>\n",
       "</table>\n",
       "<p>210 rows × 12 columns</p>\n",
       "</div>"
      ],
      "text/plain": [
       "                 created_at                              id_order  \\\n",
       "3498    2020-12-01 08:58:15  6966f7fe-fcdb-4c55-9e37-be54269a0daf   \n",
       "4444    2020-12-01 13:02:28  bc1e33f3-9f97-45a2-8860-6cdccf790ee3   \n",
       "4750    2020-12-01 13:54:48  2f538c9b-83eb-4b04-a373-6dcd868b4d79   \n",
       "9309    2020-12-01 22:50:27  87dffb3c-b165-4f95-9a56-b54d89a48e6e   \n",
       "10218   2020-12-02 00:10:14  3994f17e-32ec-4f0e-b345-9a6bb3a24bec   \n",
       "...                     ...                                   ...   \n",
       "479277  2021-02-12 21:46:04  8bc2d9b9-e176-4af0-84b8-83f34fa8d681   \n",
       "480398  2021-02-12 23:27:16  92b49456-f675-4ae2-9766-3e0618cd6fc9   \n",
       "500092  2021-02-14 16:33:59  64eb13e2-19e3-47d8-8455-19bdffe9f59e   \n",
       "704502  2021-03-06 22:54:45  55babfed-b9de-4f84-adf2-30619f1b2333   \n",
       "772367  2021-03-13 17:56:51  dd8ea95e-987f-41ff-942a-b1d5450bae6a   \n",
       "\n",
       "                                 customer_id  \\\n",
       "3498    c326e51f-92c4-42ee-96f6-544f8f474a32   \n",
       "4444    e1fc8e07-aebc-415e-84fc-ec1139aaa6ae   \n",
       "4750    71f85be5-1313-4a39-b926-2af3d96c411e   \n",
       "9309    ee236342-d182-4465-94f5-365dea32cc9f   \n",
       "10218   2b69f8e8-379a-458a-8f0f-3d174da5c0ae   \n",
       "...                                      ...   \n",
       "479277  5e5b7c60-603a-4a7b-a75b-7bbd2bd43dc3   \n",
       "480398  e00efd39-2df0-4191-bb28-e71475bccb57   \n",
       "500092  cec1dc9a-708b-4965-a341-5f2efb470517   \n",
       "704502  8d86d3f2-07d6-4aef-bd3e-1d0b0316e978   \n",
       "772367  66e02b32-cf98-43fa-b382-947f4b3edefc   \n",
       "\n",
       "                                 merchant_id  merchant_category  \\\n",
       "3498    18a72c41-f4d9-4627-bb90-0c48fa7b7ba4      Entertainment   \n",
       "4444    4d5d27f2-1e29-4de7-bef0-a3bde125d281         Gift Cards   \n",
       "4750    4d5d27f2-1e29-4de7-bef0-a3bde125d281         Gift Cards   \n",
       "9309    36e56a72-b450-4f96-8529-f2745fd8e218               Pets   \n",
       "10218   4d5d27f2-1e29-4de7-bef0-a3bde125d281         Gift Cards   \n",
       "...                                      ...                ...   \n",
       "479277  17688580-2fd7-43f6-93a3-838c8e8952fb      Entertainment   \n",
       "480398  dfd4c10a-3367-46a6-b763-6f3ae80f20b8      Entertainment   \n",
       "500092  8846d13f-b152-4ed2-8238-8ce19ba452db         Gift Cards   \n",
       "704502  f25fd872-fc46-4df2-9eab-c4c648ebc7de  Children Products   \n",
       "772367  1b8b976a-7a39-45f0-aad0-a8029d407aa6   Other categories   \n",
       "\n",
       "              payment_type          status  total_amount  canceled_amount  \\\n",
       "3498    PAY_BY_INSTALMENTS  fully_captured      444.6100              0.0   \n",
       "4444    PAY_BY_INSTALMENTS  fully_captured      235.3319              0.0   \n",
       "4750    PAY_BY_INSTALMENTS  fully_captured     1670.1074              0.0   \n",
       "9309    PAY_BY_INSTALMENTS  fully_captured      510.3500              0.0   \n",
       "10218   PAY_BY_INSTALMENTS  fully_captured      537.4245              0.0   \n",
       "...                    ...             ...           ...              ...   \n",
       "479277  PAY_BY_INSTALMENTS  fully_captured      593.3900              0.0   \n",
       "480398  PAY_BY_INSTALMENTS  fully_captured      445.9767              0.0   \n",
       "500092  PAY_BY_INSTALMENTS  fully_captured     1674.6400              0.0   \n",
       "704502  PAY_BY_INSTALMENTS  fully_captured      453.6060              0.0   \n",
       "772367  PAY_BY_INSTALMENTS  fully_captured     2366.6400              0.0   \n",
       "\n",
       "        captured_amount  refunded_amount  paid_amount  \n",
       "3498           444.6100              0.0     487.8600  \n",
       "4444           235.3319              0.0     278.5819  \n",
       "4750          1670.1074              0.0    1713.3574  \n",
       "9309           510.3500              0.0     596.8500  \n",
       "10218          537.4245              0.0     580.6745  \n",
       "...                 ...              ...          ...  \n",
       "479277         593.3900              0.0     636.6400  \n",
       "480398         445.9767              0.0     489.2267  \n",
       "500092        1674.6400              0.0    1116.4382  \n",
       "704502         453.6060              0.0     302.4040  \n",
       "772367        2366.6400              0.0    1577.7600  \n",
       "\n",
       "[210 rows x 12 columns]"
      ]
     },
     "execution_count": 31,
     "metadata": {},
     "output_type": "execute_result"
    }
   ],
   "source": [
    "# payments and due dates in different order, having late fee on first due\n",
    "pay_due_reverse=mmm[(mmm.due_rank==1)&(mmm.late_fee_amount>0)&(mmm.paid_rank==2)]\n",
    "\n",
    "# payments and due dates in different order, actually paid in first due \n",
    "first_install=mmm[(mmm.due_rank==2)&(mmm.paid_amount>0)&(mmm.paid_rank==1)]\n",
    "\n",
    "# check whehter first payment is before first due\n",
    "x=pd.merge(pay_due_reverse,first_install[['order_id','paid_date']]\n",
    "           ,left_on='order_id',right_on='order_id',how='inner')\n",
    "\n",
    "# orders with late fee \n",
    "accident_late_fee=list(x[x.paid_date_y<x.due_date].order_id)\n",
    "\n",
    "order[order.id_order.isin(accident_late_fee)]"
   ]
  },
  {
   "cell_type": "markdown",
   "metadata": {},
   "source": [
    " **Assumptions about causes of wrong late fee issue:** \n",
    "1. certain customers or merchants caused this problem  \n",
    "2. this issue is related to order status\n",
    "3. it is about the paid date or due date   \n",
    "\n",
    "I will test above assumptions next."
   ]
  },
  {
   "cell_type": "markdown",
   "metadata": {},
   "source": [
    "### 1.Test customer and merchants assumption\n",
    "210 orders with 76 merchants, and one of them has 41 orders(~20%)   \n",
    "when I go deeper into these merchant, only 0.3% of its successful orders having this late fee issue.  \n",
    "merchant is not the cause either."
   ]
  },
  {
   "cell_type": "code",
   "execution_count": 32,
   "metadata": {},
   "outputs": [
    {
     "data": {
      "text/plain": [
       "208"
      ]
     },
     "execution_count": 32,
     "metadata": {},
     "output_type": "execute_result"
    }
   ],
   "source": [
    "# 210 orders with 208 customers, it seems customer is not the cause\n",
    "len(order[order.id_order.isin(accident_late_fee)].customer_id.unique())"
   ]
  },
  {
   "cell_type": "code",
   "execution_count": 33,
   "metadata": {},
   "outputs": [
    {
     "data": {
      "text/plain": [
       "76"
      ]
     },
     "execution_count": 33,
     "metadata": {},
     "output_type": "execute_result"
    }
   ],
   "source": [
    "len(order[order.id_order.isin(accident_late_fee)].merchant_id.unique())"
   ]
  },
  {
   "cell_type": "code",
   "execution_count": 34,
   "metadata": {},
   "outputs": [
    {
     "data": {
      "text/plain": [
       "merchant_id\n",
       "b48aa986-dc88-42a3-baf4-6881631ef8a9    41\n",
       "dfd4c10a-3367-46a6-b763-6f3ae80f20b8    19\n",
       "9a672058-e4c3-450d-a969-883d9dd01576     9\n",
       "86aebfb4-7ef8-4a51-bfd9-fcfe8a9a8644     9\n",
       "4d5d27f2-1e29-4de7-bef0-a3bde125d281     7\n",
       "                                        ..\n",
       "f67e10d8-3f31-4c7f-883c-5c881a14f037     1\n",
       "81714b43-639b-417d-aedf-814d84780c49     1\n",
       "717d5472-f0f4-44f3-b7cc-c71090f9d998     1\n",
       "6d6092da-7933-48d4-918e-ec23448c6f26     1\n",
       "0016c087-81f5-46bd-8076-938e3639f0b2     1\n",
       "Length: 76, dtype: int64"
      ]
     },
     "execution_count": 34,
     "metadata": {},
     "output_type": "execute_result"
    }
   ],
   "source": [
    "order[order.id_order.isin(accident_late_fee)].groupby('merchant_id').size().sort_values(ascending=False)"
   ]
  },
  {
   "cell_type": "code",
   "execution_count": 35,
   "metadata": {},
   "outputs": [
    {
     "data": {
      "text/plain": [
       "status\n",
       "canceled                 55\n",
       "declined               2225\n",
       "expired               43013\n",
       "fully_captured        13781\n",
       "partially_captured       14\n",
       "partially_refunded       34\n",
       "dtype: int64"
      ]
     },
     "execution_count": 35,
     "metadata": {},
     "output_type": "execute_result"
    }
   ],
   "source": [
    "order[order.merchant_id=='b48aa986-dc88-42a3-baf4-6881631ef8a9'].groupby('status').size()"
   ]
  },
  {
   "cell_type": "code",
   "execution_count": 36,
   "metadata": {},
   "outputs": [
    {
     "data": {
      "text/plain": [
       "0.002975110659603802"
      ]
     },
     "execution_count": 36,
     "metadata": {},
     "output_type": "execute_result"
    }
   ],
   "source": [
    "41/(13781)"
   ]
  },
  {
   "cell_type": "markdown",
   "metadata": {},
   "source": [
    "Orders with wrong late fee issue has higher proportion of entertainment than normal orders (49% vs 41%)  \n",
    "Further information is needed to identify whether it is one of the causes. "
   ]
  },
  {
   "cell_type": "code",
   "execution_count": 37,
   "metadata": {},
   "outputs": [
    {
     "data": {
      "text/plain": [
       "<matplotlib.axes._subplots.AxesSubplot at 0x7f7ba5c8e2d0>"
      ]
     },
     "execution_count": 37,
     "metadata": {},
     "output_type": "execute_result"
    },
    {
     "data": {
      "image/png": "[encoded data removed]",
      "text/plain": [
       "<Figure size 1440x360 with 2 Axes>"
      ]
     },
     "metadata": {
      "needs_background": "light"
     },
     "output_type": "display_data"
    }
   ],
   "source": [
    "a=order[order.id_order.isin(accident_late_fee)].groupby('merchant_category').size()/order[\n",
    "    order.id_order.isin(accident_late_fee)].shape[0]\n",
    "\n",
    "b=order[(~order.id_order.isin(accident_late_fee))&(order.status.isin(['fully_captured', \n",
    "       'fully_refunded', 'partially_captured', 'partially_refunded']))].groupby('merchant_category').size()\n",
    "b=b/order[(~order.id_order.isin(accident_late_fee))&(order.status.isin(['fully_captured', \n",
    "                                                                        'partially_captured']))].shape[0]\n",
    "\n",
    "\n",
    "fig,(ax1,ax2)=plt.subplots(ncols=2,nrows=1,figsize=(20,5))\n",
    "a.plot(ax=ax1,kind='bar',title='merchant category of late payment orders')\n",
    "b.plot(ax=ax2,kind='bar',title='merchant category of normal successful orders')"
   ]
  },
  {
   "cell_type": "markdown",
   "metadata": {},
   "source": [
    "### 2.Test order status assumption\n",
    "all the orders are fully captured, so status is not related."
   ]
  },
  {
   "cell_type": "code",
   "execution_count": 38,
   "metadata": {},
   "outputs": [
    {
     "data": {
      "text/plain": [
       "status\n",
       "fully_captured    1.0\n",
       "dtype: float64"
      ]
     },
     "execution_count": 38,
     "metadata": {},
     "output_type": "execute_result"
    }
   ],
   "source": [
    "order[order.id_order.isin(accident_late_fee)].groupby('status').size()/order[\n",
    "    order.id_order.isin(accident_late_fee)].shape[0]"
   ]
  },
  {
   "cell_type": "markdown",
   "metadata": {},
   "source": [
    "### 3.Test paid/ due date assumption"
   ]
  },
  {
   "cell_type": "code",
   "execution_count": 39,
   "metadata": {},
   "outputs": [],
   "source": [
    "# payment history of late fee orders\n",
    "test=x[x.paid_date_y<x.due_date]\n",
    "test['paid_date_y_new']=test['paid_date_y'].apply(lambda x:x[:10])\n",
    "test['due_dow']=pd.to_datetime(test.due_date_new).dt.dayofweek\n",
    "test['paid_dow']=pd.to_datetime(test.paid_date_y_new).dt.dayofweek\n",
    "\n",
    "# payment history of regular paid orders\n",
    "test2=mmm[~mmm.order_id.isin(accident_late_fee)]\n",
    "test2=test2[(test2.paid_amount>0)&(test2.payment_type==2)&(\n",
    "    test2.due_date_new>=test2.paid_date_new)&(test2.due_rank==test2.paid_rank)]\n",
    "test2['due_dow']=pd.to_datetime(test2.due_date_new).dt.dayofweek\n",
    "test2['paid_dow']=pd.to_datetime(test2.paid_date_new).dt.dayofweek\n",
    "\n",
    "test['gap']=pd.to_datetime(test.due_date_new)-pd.to_datetime(test.paid_date_y_new)\n",
    "test2['gap']=pd.to_datetime(test2.due_date_new)-pd.to_datetime(test2.paid_date_new)"
   ]
  },
  {
   "cell_type": "code",
   "execution_count": 40,
   "metadata": {},
   "outputs": [
    {
     "data": {
      "text/plain": [
       "<matplotlib.axes._subplots.AxesSubplot at 0x7f7ba8c53510>"
      ]
     },
     "execution_count": 40,
     "metadata": {},
     "output_type": "execute_result"
    },
    {
     "data": {
      "image/png": "[encoded data removed]",
      "text/plain": [
       "<Figure size 1440x360 with 2 Axes>"
      ]
     },
     "metadata": {},
     "output_type": "display_data"
    }
   ],
   "source": [
    "a=test.groupby('due_dow').size()/test.shape[0]\n",
    "b=test2.groupby('due_dow').size()/test2.shape[0]\n",
    "fig,(ax1,ax2)=plt.subplots(ncols=2,nrows=1,figsize=(20,5))\n",
    "a.plot(ax=ax1,kind='pie',title='due date day of week distribution of late payment orders')\n",
    "b.plot(ax=ax2,kind='pie',title='due date day of week distribution of normal paid orders')"
   ]
  },
  {
   "cell_type": "code",
   "execution_count": 41,
   "metadata": {},
   "outputs": [
    {
     "data": {
      "text/plain": [
       "<matplotlib.axes._subplots.AxesSubplot at 0x7f7ba88eaa90>"
      ]
     },
     "execution_count": 41,
     "metadata": {},
     "output_type": "execute_result"
    },
    {
     "data": {
      "image/png": "[encoded data removed]",
      "text/plain": [
       "<Figure size 1440x360 with 2 Axes>"
      ]
     },
     "metadata": {},
     "output_type": "display_data"
    }
   ],
   "source": [
    "a=test.groupby('paid_dow').size()/test.shape[0]\n",
    "b=test2.groupby('paid_dow').size()/test2.shape[0]\n",
    "fig,(ax1,ax2)=plt.subplots(ncols=2,nrows=1,figsize=(20,5))\n",
    "a.plot(ax=ax1,kind='pie',title='paid date day of week distribution of late payment orders')\n",
    "b.plot(ax=ax2,kind='pie',title='paid date day of week distribution of normal paid orders')"
   ]
  },
  {
   "cell_type": "markdown",
   "metadata": {},
   "source": [
    "Majority of the late fee payments (72%) are make within 2 days before due, while proportion of regular payments is only 53%.   \n",
    "Especially 2 days ahead payment in late fee payments group is significantly higher (31% vs 17%).  \n",
    "I believe how many days a payment is made ahead of due date is a factor which impacts happening of late fee payment issue."
   ]
  },
  {
   "cell_type": "code",
   "execution_count": 42,
   "metadata": {},
   "outputs": [
    {
     "data": {
      "text/plain": [
       "<matplotlib.axes._subplots.AxesSubplot at 0x7f7ba8ccdf50>"
      ]
     },
     "execution_count": 42,
     "metadata": {},
     "output_type": "execute_result"
    },
    {
     "data": {
      "image/png": "[encoded data removed]",
      "text/plain": [
       "<Figure size 432x288 with 1 Axes>"
      ]
     },
     "metadata": {
      "needs_background": "light"
     },
     "output_type": "display_data"
    }
   ],
   "source": [
    "test['gap']=test['gap'].apply(lambda x:x/np.timedelta64(1, 'D'))\n",
    "a=test.groupby('gap').size()/test.shape[0]\n",
    "a.plot(kind='bar',title='days between due and paid date distribution of late payment orders')"
   ]
  },
  {
   "cell_type": "code",
   "execution_count": 43,
   "metadata": {},
   "outputs": [
    {
     "data": {
      "text/plain": [
       "gap\n",
       "0 days      0.220361\n",
       "1 days      0.117408\n",
       "2 days      0.196144\n",
       "3 days      0.050725\n",
       "4 days      0.038965\n",
       "              ...   \n",
       "129 days    0.000004\n",
       "131 days    0.000004\n",
       "142 days    0.000004\n",
       "144 days    0.000004\n",
       "150 days    0.000004\n",
       "Length: 99, dtype: float64"
      ]
     },
     "execution_count": 43,
     "metadata": {},
     "output_type": "execute_result"
    }
   ],
   "source": [
    "b=test2.groupby('gap').size()/test2.shape[0]\n",
    "b"
   ]
  },
  {
   "cell_type": "code",
   "execution_count": 44,
   "metadata": {},
   "outputs": [
    {
     "data": {
      "text/plain": [
       "10974.064699999999"
      ]
     },
     "execution_count": 44,
     "metadata": {},
     "output_type": "execute_result"
    }
   ],
   "source": [
    "# amount of wrong late fees\n",
    "test.late_fee_amount.sum()"
   ]
  },
  {
   "cell_type": "markdown",
   "metadata": {},
   "source": [
    "# Q4\n",
    "**There are 139306 orders being declined** (14% of total orders).      \n",
    "\n",
    "**Top 4 declined codes account for 70% declined orders, which are 100012,100008,100000,100022.** \n",
    "1. Top 1 code is 10012 (account for 23% declined orders), meaning either Customer has pending dues on another tamara account or Customer shares device with multiple accounts.   \n",
    "2. Top 2 code is 10008 (account for 22% declined orders), meaning Number is in the blacklist.  \n",
    "3. Top 3 code is 10000 (account for 14% declined orders), meaning Item name and price is violated.  \n",
    "4. Top 4 code is 10022 (account for 12% declined orders), meaning Poor credit score. "
   ]
  },
  {
   "cell_type": "code",
   "execution_count": 45,
   "metadata": {},
   "outputs": [
    {
     "name": "stdout",
     "output_type": "stream",
     "text": [
      "(139306, 6)\n"
     ]
    },
    {
     "data": {
      "text/html": [
       "<div>\n",
       "<style scoped>\n",
       "    .dataframe tbody tr th:only-of-type {\n",
       "        vertical-align: middle;\n",
       "    }\n",
       "\n",
       "    .dataframe tbody tr th {\n",
       "        vertical-align: top;\n",
       "    }\n",
       "\n",
       "    .dataframe thead th {\n",
       "        text-align: right;\n",
       "    }\n",
       "</style>\n",
       "<table border=\"1\" class=\"dataframe\">\n",
       "  <thead>\n",
       "    <tr style=\"text-align: right;\">\n",
       "      <th></th>\n",
       "      <th>id</th>\n",
       "      <th>event_id</th>\n",
       "      <th>order_id</th>\n",
       "      <th>event_name</th>\n",
       "      <th>payload</th>\n",
       "      <th>created_at</th>\n",
       "    </tr>\n",
       "  </thead>\n",
       "  <tbody>\n",
       "    <tr>\n",
       "      <td>0</td>\n",
       "      <td>523307</td>\n",
       "      <td>cca17a50-4eda-443d-bfef-4956aea16a00</td>\n",
       "      <td>e4342982-9d4e-4b41-a673-c8ff488df622</td>\n",
       "      <td>Tamara\\Component\\Order\\Model\\Event\\OrderWasDec...</td>\n",
       "      <td>{\"to\": \"declined\", \"from\": \"new\", \"order_id\": ...</td>\n",
       "      <td>2020-09-23 13:20:42</td>\n",
       "    </tr>\n",
       "    <tr>\n",
       "      <td>1</td>\n",
       "      <td>3132240</td>\n",
       "      <td>7ea10ed8-0dd2-4a66-a9b2-d92d1932baf6</td>\n",
       "      <td>1aee78e7-a794-4151-a1f9-35d7505c22c5</td>\n",
       "      <td>Tamara\\Component\\Order\\Model\\Event\\OrderWasDec...</td>\n",
       "      <td>{\"to\": \"declined\", \"from\": \"new\", \"order_id\": ...</td>\n",
       "      <td>2020-12-01 00:00:26</td>\n",
       "    </tr>\n",
       "    <tr>\n",
       "      <td>2</td>\n",
       "      <td>3132252</td>\n",
       "      <td>6e3f30e8-42bb-48a7-a4ca-41288e2d93dd</td>\n",
       "      <td>59dc3853-5bd7-44d7-a9c4-6518c4364f38</td>\n",
       "      <td>Tamara\\Component\\Order\\Model\\Event\\OrderWasDec...</td>\n",
       "      <td>{\"to\": \"declined\", \"from\": \"new\", \"order_id\": ...</td>\n",
       "      <td>2020-12-01 00:00:31</td>\n",
       "    </tr>\n",
       "    <tr>\n",
       "      <td>3</td>\n",
       "      <td>3132278</td>\n",
       "      <td>4ef45052-226c-47ca-901d-567ca34384c8</td>\n",
       "      <td>a5a8a473-bb43-4dac-b881-4a944bb6bf49</td>\n",
       "      <td>Tamara\\Component\\Order\\Model\\Event\\OrderWasDec...</td>\n",
       "      <td>{\"to\": \"declined\", \"from\": \"new\", \"order_id\": ...</td>\n",
       "      <td>2020-12-01 00:00:48</td>\n",
       "    </tr>\n",
       "    <tr>\n",
       "      <td>4</td>\n",
       "      <td>3132521</td>\n",
       "      <td>95e41b14-fd3a-437a-a978-07235f5c548a</td>\n",
       "      <td>5346eade-47c6-474f-8bc2-a5f8b3e54be5</td>\n",
       "      <td>Tamara\\Component\\Order\\Model\\Event\\OrderWasDec...</td>\n",
       "      <td>{\"to\": \"declined\", \"from\": \"new\", \"order_id\": ...</td>\n",
       "      <td>2020-12-01 00:03:27</td>\n",
       "    </tr>\n",
       "  </tbody>\n",
       "</table>\n",
       "</div>"
      ],
      "text/plain": [
       "        id                              event_id  \\\n",
       "0   523307  cca17a50-4eda-443d-bfef-4956aea16a00   \n",
       "1  3132240  7ea10ed8-0dd2-4a66-a9b2-d92d1932baf6   \n",
       "2  3132252  6e3f30e8-42bb-48a7-a4ca-41288e2d93dd   \n",
       "3  3132278  4ef45052-226c-47ca-901d-567ca34384c8   \n",
       "4  3132521  95e41b14-fd3a-437a-a978-07235f5c548a   \n",
       "\n",
       "                               order_id  \\\n",
       "0  e4342982-9d4e-4b41-a673-c8ff488df622   \n",
       "1  1aee78e7-a794-4151-a1f9-35d7505c22c5   \n",
       "2  59dc3853-5bd7-44d7-a9c4-6518c4364f38   \n",
       "3  a5a8a473-bb43-4dac-b881-4a944bb6bf49   \n",
       "4  5346eade-47c6-474f-8bc2-a5f8b3e54be5   \n",
       "\n",
       "                                          event_name  \\\n",
       "0  Tamara\\Component\\Order\\Model\\Event\\OrderWasDec...   \n",
       "1  Tamara\\Component\\Order\\Model\\Event\\OrderWasDec...   \n",
       "2  Tamara\\Component\\Order\\Model\\Event\\OrderWasDec...   \n",
       "3  Tamara\\Component\\Order\\Model\\Event\\OrderWasDec...   \n",
       "4  Tamara\\Component\\Order\\Model\\Event\\OrderWasDec...   \n",
       "\n",
       "                                             payload           created_at  \n",
       "0  {\"to\": \"declined\", \"from\": \"new\", \"order_id\": ...  2020-09-23 13:20:42  \n",
       "1  {\"to\": \"declined\", \"from\": \"new\", \"order_id\": ...  2020-12-01 00:00:26  \n",
       "2  {\"to\": \"declined\", \"from\": \"new\", \"order_id\": ...  2020-12-01 00:00:31  \n",
       "3  {\"to\": \"declined\", \"from\": \"new\", \"order_id\": ...  2020-12-01 00:00:48  \n",
       "4  {\"to\": \"declined\", \"from\": \"new\", \"order_id\": ...  2020-12-01 00:03:27  "
      ]
     },
     "execution_count": 45,
     "metadata": {},
     "output_type": "execute_result"
    }
   ],
   "source": [
    "# get order_id and events of declined orders\n",
    "declined=list(order[order.status=='declined'].id_order.unique())\n",
    "declined_event=event[event.order_id.isin(declined)]\n",
    "print(declined_event.shape)\n",
    "declined_event.head()"
   ]
  },
  {
   "cell_type": "code",
   "execution_count": 46,
   "metadata": {},
   "outputs": [
    {
     "data": {
      "text/plain": [
       "0.14220571677067076"
      ]
     },
     "execution_count": 46,
     "metadata": {},
     "output_type": "execute_result"
    }
   ],
   "source": [
    "139306/order.shape[0]"
   ]
  },
  {
   "cell_type": "code",
   "execution_count": 47,
   "metadata": {},
   "outputs": [
    {
     "data": {
      "text/plain": [
       "'{\"to\": \"declined\", \"from\": \"new\", \"order_id\": \"e4342982-9d4e-4b41-a673-c8ff488df622\", \"declined_code\": \"100007\", \"declined_reason\": \"User credit reached eligibility down payment threshold\"}'"
      ]
     },
     "execution_count": 47,
     "metadata": {},
     "output_type": "execute_result"
    }
   ],
   "source": [
    "# column payload has information about declined reason \n",
    "declined_event.payload[0]"
   ]
  },
  {
   "cell_type": "code",
   "execution_count": 48,
   "metadata": {},
   "outputs": [],
   "source": [
    "# extract declined code and reason  \n",
    "declined_event['declined_code']=declined_event.payload.apply(lambda x: eval(x)['declined_code'] \n",
    "                                                             if 'declined_code' in eval(x).keys() else np.nan)\n",
    "declined_event['declined_reason']=declined_event.payload.apply(lambda x: eval(x)['declined_reason']\n",
    "                                                            if 'declined_reason' in eval(x).keys() else np.nan)"
   ]
  },
  {
   "cell_type": "code",
   "execution_count": 49,
   "metadata": {},
   "outputs": [
    {
     "data": {
      "text/plain": [
       "<matplotlib.axes._subplots.AxesSubplot at 0x7f7ba7811150>"
      ]
     },
     "execution_count": 49,
     "metadata": {},
     "output_type": "execute_result"
    },
    {
     "data": {
      "image/png": "[encoded data removed]",
      "text/plain": [
       "<Figure size 432x288 with 1 Axes>"
      ]
     },
     "metadata": {
      "needs_background": "light"
     },
     "output_type": "display_data"
    }
   ],
   "source": [
    "(declined_event.groupby('declined_code').size().sort_values(ascending=False)/139306).plot(kind='bar',\n",
    "                                                                                title='distribution of declined code')"
   ]
  },
  {
   "cell_type": "code",
   "execution_count": 50,
   "metadata": {},
   "outputs": [
    {
     "data": {
      "text/plain": [
       "declined_code\n",
       "100012    0.226717\n",
       "100008    0.218770\n",
       "100000    0.135730\n",
       "100022    0.123153\n",
       "100011    0.078798\n",
       "100007    0.069861\n",
       "100003    0.065668\n",
       "100002    0.031198\n",
       "100023    0.019210\n",
       "100009    0.012383\n",
       "100020    0.006116\n",
       "100017    0.005133\n",
       "100016    0.003288\n",
       "100021    0.003029\n",
       "100014    0.000359\n",
       "100010    0.000294\n",
       "100018    0.000244\n",
       "100001    0.000007\n",
       "dtype: float64"
      ]
     },
     "execution_count": 50,
     "metadata": {},
     "output_type": "execute_result"
    }
   ],
   "source": [
    "declined_event.groupby('declined_code').size().sort_values(ascending=False)/139306"
   ]
  },
  {
   "cell_type": "code",
   "execution_count": 51,
   "metadata": {},
   "outputs": [
    {
     "data": {
      "text/plain": [
       "declined_reason\n",
       "Customer has pending dues on another tamara account with matching email, or phone numbers (store account, shipping or billing phone numbers)       24861\n",
       "Customer 91f4f6e4-71fb-496f-a4df-41cd542fb8c1(phone = 966552995225) shared deviceId = W-6491497625554603a0a4db003a40a45e with multiple accounts       23\n",
       "Customer d9cd867e-68db-4ac5-b03d-5ce5e3b5bb75(phone = 966567869750) shared deviceId = W-5192453aff664845af8a9588687fdd9f with multiple accounts       20\n",
       "Customer fb726f09-de58-427b-b622-26965994ea23(phone = 966537509415) shared deviceId = W-4af577764fd9404483aa9a43f2296b45 with multiple accounts       17\n",
       "Customer 1b9a6a15-2ce3-4618-a1a4-7628956537af(phone = 966557691334) shared deviceId = W-43b41ef70ad048bb8d17deafebc58622 with multiple accounts       16\n",
       "                                                                                                                                                   ...  \n",
       "Customer 9f9df2db-4e70-4b65-97ef-ed73297c9d2a(phone = 966563875391) shared deviceId = W-53eac788b233451799e768f4b71bc584 with multiple accounts        1\n",
       "Customer 9f984fb1-9fd3-453b-b107-dd707fb13799(phone = 966595998811) shared deviceId = W-71fde838c98c433682aab63392f63292 with multiple accounts        1\n",
       "Customer 9f8eeb43-a9f8-48af-87a3-1625ede9d783(phone = 966532236641) shared deviceId = W-0322b50378ea445f9c9c6a5ecf3ffdb7 with multiple accounts        1\n",
       "Customer 9f8c1af5-86b0-42de-89c0-79644bc19257(phone = 966544321968) shared deviceId = W-acfd3e58493443e88d0275b56793539d with multiple accounts        1\n",
       "Customer 00047363-0334-428e-b5fa-0155349eeeff(phone = 966504424593) shared deviceId = W-be819cb96e0d4bd8b3542b4ba864e6f7 with multiple accounts        1\n",
       "Length: 4622, dtype: int64"
      ]
     },
     "execution_count": 51,
     "metadata": {},
     "output_type": "execute_result"
    }
   ],
   "source": [
    "declined_event[declined_event.declined_code=='100012'].groupby('declined_reason').size().sort_values(ascending=False)"
   ]
  },
  {
   "cell_type": "markdown",
   "metadata": {},
   "source": [
    "# Q5\n",
    "Insights and suggestions to company through analysis:  \n",
    "\n",
    "* **From customer experience's point of view:**   \n",
    "① During paying process :65% orders were unsuccessful ( 63% failed due to either declined or expired). The conversion rate from starting a payment to approved is only about 35%, which indicates not good customer experience.    \n",
    "② After payment: wrong late payment fee issue is bad case for customer experience. With more investigation on the cause, I think this problem is solvable.   \n",
    "**Company should invest on improving customer experience, especially reducing expiry rate and avoid after payment bad cases.** \n",
    "   \n",
    "   \n",
    "* **From financial point of view:**  \n",
    "① From deliquency rate and recovery rate calculated above, we can estimate about 3% payments were unpaid. It is loss to company.    \n",
    "② 3% sucessful orders required refunds, and it is also seen that many customers share accounts or have multiple accounts in previous analysis about declined orders. These activities could be frauds, and should be dealt with cautiously.   \n",
    "**Company should pay attention to preventing bad debt and fraud.**"
   ]
  },
  {
   "cell_type": "code",
   "execution_count": 52,
   "metadata": {},
   "outputs": [
    {
     "data": {
      "text/plain": [
       "224995"
      ]
     },
     "execution_count": 52,
     "metadata": {},
     "output_type": "execute_result"
    }
   ],
   "source": [
    "order[order.status.isin(['partially_refunded','fully_refunded','fully_captured','fully_refunded'])].shape[0]"
   ]
  },
  {
   "cell_type": "code",
   "execution_count": 53,
   "metadata": {},
   "outputs": [
    {
     "data": {
      "text/plain": [
       "6720"
      ]
     },
     "execution_count": 53,
     "metadata": {},
     "output_type": "execute_result"
    }
   ],
   "source": [
    "order[order.status.isin(['partially_refunded','fully_refunded'])&(order.total_amount>order.paid_amount)].shape[0]"
   ]
  },
  {
   "cell_type": "code",
   "execution_count": 54,
   "metadata": {},
   "outputs": [
    {
     "data": {
      "text/plain": [
       "0.02986733038511967"
      ]
     },
     "execution_count": 54,
     "metadata": {},
     "output_type": "execute_result"
    }
   ],
   "source": [
    "# refund rate \n",
    "6720/224995"
   ]
  },
  {
   "cell_type": "code",
   "execution_count": null,
   "metadata": {},
   "outputs": [],
   "source": []
  }
 ],
 "metadata": {
  "kernelspec": {
   "display_name": "Python 3",
   "language": "python",
   "name": "python3"
  },
  "language_info": {
   "codemirror_mode": {
    "name": "ipython",
    "version": 3
   },
   "file_extension": ".py",
   "mimetype": "text/x-python",
   "name": "python",
   "nbconvert_exporter": "python",
   "pygments_lexer": "ipython3",
   "version": "3.7.4"
  }
 },
 "nbformat": 4,
 "nbformat_minor": 2
}
