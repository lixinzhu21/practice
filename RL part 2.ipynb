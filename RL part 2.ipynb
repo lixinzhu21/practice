{
 "cells": [
  {
   "cell_type": "code",
   "execution_count": 5,
   "metadata": {},
   "outputs": [],
   "source": [
    "import math\n",
    "import random\n",
    "#each value card has a 1:13 chance of being selected (we don't care about suits for blackjack)\n",
    "#cards (value): Ace (1), 2, 3, 4, 5, 6, 7, 8, 9, 10, Jack (10), Queen (10), King (10)\n",
    "\n",
    "def randomCard():\n",
    "    card = random.randint(1,13)\n",
    "    if card > 10:\n",
    "        card = 10\n",
    "    return card\n",
    "\n",
    "#A hand is just a tuple e.g. (14, False), a total card value of 14 without a useable ace\n",
    "#accepts a hand, if the Ace can be an 11 without busting the hand, it's useable\n",
    "def useable_ace(hand):\n",
    "    val, ace = hand\n",
    "    return ((ace) and ((val + 10) <= 21))\n",
    "\n",
    "def totalValue(hand):\n",
    "    val, ace = hand\n",
    "    if (useable_ace(hand)):\n",
    "        return (val + 10)\n",
    "    else:\n",
    "        return val\n",
    "    \n",
    "def add_card(hand, card):\n",
    "    val, ace = hand\n",
    "    if (card == 1):\n",
    "        ace = True\n",
    "    return (val + card, ace)\n",
    "#The first is first dealt a single card, this method finishes off his hand\n",
    "def eval_dealer(dealer_hand):\n",
    "    while (totalValue(dealer_hand) < 17):\n",
    "        dealer_hand = add_card(dealer_hand, randomCard())\n",
    "    return dealer_hand\n",
    "\n",
    "#state: (player total, useable_ace), (dealer total, useable ace), game status; e.g. ((15, True), (9, False), 1)\n",
    "#stay or hit => dec == 0 or 1\n",
    "def play(state, dec):\n",
    "    #evaluate\n",
    "    player_hand = state[0] #val, useable ace\n",
    "    dealer_hand = state[1]\n",
    "    if dec == 0: #action = stay\n",
    "        #evaluate game; dealer plays\n",
    "        dealer_hand = eval_dealer(dealer_hand)\n",
    "        \n",
    "        player_tot = totalValue(player_hand)\n",
    "        dealer_tot = totalValue(dealer_hand)\n",
    "        status = 1\n",
    "        if (dealer_tot > 21):\n",
    "            status = 2 #player wins\n",
    "        elif (dealer_tot == player_tot):\n",
    "            status = 3 #draw\n",
    "        elif (dealer_tot < player_tot):\n",
    "            status = 2 #player wins\n",
    "        elif (dealer_tot > player_tot):\n",
    "            status = 4 #player loses\n",
    "            \n",
    "    elif dec == 1: #action = hit\n",
    "        #if hit, add new card to player's hand\n",
    "        player_hand = add_card(player_hand, randomCard())\n",
    "        d_hand = eval_dealer(dealer_hand)\n",
    "        player_tot = totalValue(player_hand)\n",
    "        status = 1\n",
    "        if (player_tot == 21): \n",
    "            if (totalValue(d_hand) == 21):\n",
    "                status = 3 #draw\n",
    "            else:\n",
    "                status = 2 #player wins!\n",
    "        elif (player_tot > 21):\n",
    "            status = 4 #player loses\n",
    "        elif (player_tot < 21):\n",
    "            #game still in progress\n",
    "            status = 1\n",
    "    state = (player_hand, dealer_hand, status)\n",
    "\n",
    "    return state\n",
    "\n",
    "#start a game of blackjack, returns a random initial state\n",
    "def initGame():\n",
    "    status = 1 #1=in progress; 2=player won; 3=draw; 4 = dealer won/player loses\n",
    "    player_hand = add_card((0, False), randomCard())\n",
    "    player_hand = add_card(player_hand, randomCard())\n",
    "    dealer_hand = add_card((0, False), randomCard())\n",
    "    #evaluate if player wins from first hand\n",
    "    if totalValue(player_hand) == 21:\n",
    "        if totalValue(dealer_hand) != 21:\n",
    "            status = 2 #player wins after first deal!\n",
    "        else:\n",
    "            status = 3 #draw\n",
    "        \n",
    "    state = (player_hand, dealer_hand, status)\n",
    "    return state\n"
   ]
  },
  {
   "cell_type": "code",
   "execution_count": 6,
   "metadata": {},
   "outputs": [
    {
     "name": "stdout",
     "output_type": "stream",
     "text": [
      "((6, False), (10, False), 1)\n"
     ]
    }
   ],
   "source": [
    "state = initGame()\n",
    "print(state)"
   ]
  },
  {
   "cell_type": "code",
   "execution_count": 7,
   "metadata": {},
   "outputs": [
    {
     "name": "stdout",
     "output_type": "stream",
     "text": [
      "((14, False), (10, False), 1)\n"
     ]
    }
   ],
   "source": [
    "state = play(state, 1) \n",
    "print(state)"
   ]
  },
  {
   "cell_type": "code",
   "execution_count": 8,
   "metadata": {},
   "outputs": [
    {
     "name": "stdout",
     "output_type": "stream",
     "text": [
      "((19, False), (10, False), 1)\n"
     ]
    }
   ],
   "source": [
    "state = play(state, 1)\n",
    "print(state)"
   ]
  },
  {
   "cell_type": "code",
   "execution_count": 9,
   "metadata": {},
   "outputs": [
    {
     "name": "stdout",
     "output_type": "stream",
     "text": [
      "((19, False), (17, False), 2)\n"
     ]
    }
   ],
   "source": [
    "state = play(state, 0)\n",
    "print(state)"
   ]
  },
  {
   "cell_type": "code",
   "execution_count": 24,
   "metadata": {},
   "outputs": [],
   "source": [
    "import numpy as np\n",
    "\n",
    "#Create a list of all the possible states\n",
    "def initStateSpace():\n",
    "    states = []\n",
    "    for card in range(1,11):\n",
    "        for val in range(11,22):\n",
    "            states.append((val, False, card))\n",
    "            states.append((val, True, card))\n",
    "    return states\n",
    "\n",
    "#Create a dictionary (key-value pairs) of all possible state-actions and their values\n",
    "#This creates our Q-value look up table\n",
    "def initStateActions(states):\n",
    "    av = {}\n",
    "    for state in states:\n",
    "        av[(state, 0)] = 0.0\n",
    "        av[(state, 1)] = 0.0\n",
    "    return av\n",
    "#Setup a dictionary of state-actions to record how many times we've experienced\n",
    "#a given state-action pair. We need this to re-calculate reward averages\n",
    "def initSAcount(stateActions):\n",
    "    counts = {}\n",
    "    for sa in stateActions:\n",
    "        counts[sa] = 0\n",
    "    return counts\n",
    "\n",
    "#This calculates the reward of the game, either +1 for winning, 0 for draw, or -1 for losing\n",
    "#We can determine this by simply substracting the game status value from 3\n",
    "def calcReward(outcome):\n",
    "    return 3-outcome\n",
    "\n",
    "#This recalculates the average rewards for our Q-value look-up table\n",
    "def updateQtable(av_table, av_count, returns):\n",
    "    for key in returns:\n",
    "        av_table[key] = av_table[key] + (1.0 / av_count[key]) * (returns[key]- av_table[key])\n",
    "    return av_table\n",
    "        \n",
    "#returns Q-value/avg rewards for each action given a state\n",
    "def qsv(state, av_table):\n",
    "    stay = av_table[(state,0)]\n",
    "    hit = av_table[(state,1)]\n",
    "    return np.array([stay, hit])\n",
    "\n",
    "#converts a game state of the form ((player total, ace), (dealer total, ace), status) \n",
    "#to a condensed state we'll use for our RL algorithm (player total, usable ace, dealer card)\n",
    "def getRLstate(state):\n",
    "    player_hand, dealer_hand, status = state\n",
    "    player_val, player_ace = player_hand\n",
    "    return (player_val, player_ace, dealer_hand[0])"
   ]
  },
  {
   "cell_type": "code",
   "execution_count": 49,
   "metadata": {},
   "outputs": [
    {
     "name": "stdout",
     "output_type": "stream",
     "text": [
      "Done\n"
     ]
    }
   ],
   "source": [
    "epochs = 5000000 #takes just a minute or two on my Macbook Air\n",
    "epsilon = 0.1\n",
    "\n",
    "state_space = initStateSpace()\n",
    "av_table = initStateActions(state_space)\n",
    "av_count = initSAcount(av_table)\n",
    "\n",
    "for i in range(epochs):\n",
    "    #initialize new game; observe current state\n",
    "    state = initGame()\n",
    "    player_hand, dealer_hand, status = state\n",
    "    #if player's total is less than 11, increase total by adding another card\n",
    "    #we do this because whenever the player's total is less than 11, you always hit no matter what\n",
    "    #so we don't want to waste compute cycles on that subset of the state space\n",
    "    while player_hand[0] < 11:\n",
    "        player_hand = add_card(player_hand, randomCard())\n",
    "        state = (player_hand, dealer_hand, status)\n",
    "    rl_state = getRLstate(state) #convert to compressed version of state\n",
    "    \n",
    "    #setup dictionary to temporarily hold the current episode's state-actions\n",
    "    returns = {} #state, action, return\n",
    "    while(state[2] == 1): #while in current episode\n",
    "        #epsilon greedy action selection\n",
    "        act_probs = qsv(rl_state, av_table)\n",
    "        if (random.random() < epsilon):\n",
    "            action = random.randint(0,1)\n",
    "        else:\n",
    "            action = np.argmax(act_probs)#select an action\n",
    "        sa = ((rl_state, action))\n",
    "        returns[sa] = 0 #add a-v pair to returns list, default value to 0\n",
    "        av_count[sa] += 1 #increment counter for avg calc\n",
    "        state = play(state, action) #make a play, observe new state\n",
    "        rl_state = getRLstate(state)\n",
    "    #after an episode is complete, assign rewards to all the state-actions that took place in the episode\n",
    "    for key in returns: \n",
    "        returns[key] = calcReward(state[2])\n",
    "    av_table = updateQtable(av_table, av_count, returns)\n",
    "print(\"Done\")"
   ]
  },
  {
   "cell_type": "code",
   "execution_count": 52,
   "metadata": {},
   "outputs": [
    {
     "data": {
      "application/vnd.jupyter.widget-view+json": {
       "model_id": "42813ce95aa846d68e79837e751b2f64",
       "version_major": 2,
       "version_minor": 0
      },
      "text/plain": [
       "FigureCanvasNbAgg()"
      ]
     },
     "metadata": {},
     "output_type": "display_data"
    },
    {
     "data": {
      "text/plain": [
       "<mpl_toolkits.mplot3d.art3d.Poly3DCollection at 0x16cae9e8>"
      ]
     },
     "execution_count": 52,
     "metadata": {},
     "output_type": "execute_result"
    }
   ],
   "source": [
    "#3d plot of state-value space where no useable Aces are present\n",
    "import matplotlib.pyplot as plt\n",
    "from mpl_toolkits.mplot3d import Axes3D\n",
    "from matplotlib import cm\n",
    "%matplotlib widget\n",
    "fig = plt.figure(figsize=(8, 6))\n",
    "ax = fig.add_subplot(111, projection='3d', )\n",
    "\n",
    "ax.set_xlabel('Dealer card')\n",
    "ax.set_ylabel('Player sum')\n",
    "ax.set_zlabel('State-Value')\n",
    "\n",
    "x,y,z = [],[],[]\n",
    "for key in state_space:\n",
    "    if (not key[1] and key[0] > 11 and key[2] < 21):\n",
    "        y.append(key[0])\n",
    "        x.append(key[2])\n",
    "        state_value = max([av_table[(key, 0)], av_table[(key, 1)]])\n",
    "        z.append(state_value)\n",
    "ax.azim = 230\n",
    "ax.plot_trisurf(x,y,z, linewidth=.02, cmap=cm.jet)"
   ]
  },
  {
   "cell_type": "code",
   "execution_count": null,
   "metadata": {},
   "outputs": [],
   "source": []
  }
 ],
 "metadata": {
  "kernelspec": {
   "display_name": "Python 3",
   "language": "python",
   "name": "python3"
  },
  "language_info": {
   "codemirror_mode": {
    "name": "ipython",
    "version": 3
   },
   "file_extension": ".py",
   "mimetype": "text/x-python",
   "name": "python",
   "nbconvert_exporter": "python",
   "pygments_lexer": "ipython3",
   "version": "3.7.1"
  }
 },
 "nbformat": 4,
 "nbformat_minor": 2
}
