{
 "cells": [
  {
   "cell_type": "code",
   "execution_count": 1,
   "metadata": {},
   "outputs": [],
   "source": [
    "import tensorflow as tf\n",
    "import numpy as np"
   ]
  },
  {
   "cell_type": "code",
   "execution_count": 2,
   "metadata": {},
   "outputs": [
    {
     "name": "stdout",
     "output_type": "stream",
     "text": [
      "[[2 2 2]\n",
      " [2 2 2]\n",
      " [2 2 2]]\n",
      "[[1 1 1]\n",
      " [1 1 1]\n",
      " [1 1 1]]\n"
     ]
    }
   ],
   "source": [
    "matrix1 = np.array([(2,2,2),(2,2,2),(2,2,2)],dtype = 'int32')\n",
    "matrix2 = np.array([(1,1,1),(1,1,1),(1,1,1)],dtype = 'int32')\n",
    "\n",
    "print (matrix1)\n",
    "print (matrix2)"
   ]
  },
  {
   "cell_type": "code",
   "execution_count": 3,
   "metadata": {},
   "outputs": [
    {
     "data": {
      "text/plain": [
       "<tf.Tensor 'Const:0' shape=(3, 3) dtype=int32>"
      ]
     },
     "execution_count": 3,
     "metadata": {},
     "output_type": "execute_result"
    }
   ],
   "source": [
    "matrix1 = tf.constant(matrix1)\n",
    "matrix2 = tf.constant(matrix2)\n",
    "matrix1"
   ]
  },
  {
   "cell_type": "code",
   "execution_count": 4,
   "metadata": {},
   "outputs": [
    {
     "name": "stdout",
     "output_type": "stream",
     "text": [
      "Tensor(\"Const:0\", shape=(3, 3), dtype=int32)\n"
     ]
    }
   ],
   "source": [
    "print(matrix1)"
   ]
  },
  {
   "cell_type": "code",
   "execution_count": 5,
   "metadata": {},
   "outputs": [],
   "source": [
    "matrix_product = tf.matmul(matrix1, matrix2)\n",
    "matrix_sum = tf.add(matrix1,matrix2)\n",
    "matrix_3 = np.array([(2,7,2),(1,4,2),(9,0,2)],dtype = 'float32')\n",
    "\n",
    "matrix_det = tf.matrix_determinant(matrix_3)\n",
    "with tf.Session() as sess:\n",
    "   result1 = sess.run(matrix_product)\n",
    "   result2 = sess.run(matrix_sum)\n",
    "   result3 = sess.run(matrix_det)"
   ]
  },
  {
   "cell_type": "code",
   "execution_count": 6,
   "metadata": {},
   "outputs": [
    {
     "data": {
      "text/plain": [
       "array([[6, 6, 6],\n",
       "       [6, 6, 6],\n",
       "       [6, 6, 6]])"
      ]
     },
     "execution_count": 6,
     "metadata": {},
     "output_type": "execute_result"
    }
   ],
   "source": [
    "result1"
   ]
  },
  {
   "cell_type": "code",
   "execution_count": 7,
   "metadata": {},
   "outputs": [
    {
     "data": {
      "text/plain": [
       "array([[3, 3, 3],\n",
       "       [3, 3, 3],\n",
       "       [3, 3, 3]])"
      ]
     },
     "execution_count": 7,
     "metadata": {},
     "output_type": "execute_result"
    }
   ],
   "source": [
    "result2"
   ]
  },
  {
   "cell_type": "code",
   "execution_count": 8,
   "metadata": {},
   "outputs": [
    {
     "data": {
      "text/plain": [
       "55.999992"
      ]
     },
     "execution_count": 8,
     "metadata": {},
     "output_type": "execute_result"
    }
   ],
   "source": [
    "result3"
   ]
  },
  {
   "cell_type": "code",
   "execution_count": 14,
   "metadata": {},
   "outputs": [
    {
     "name": "stdout",
     "output_type": "stream",
     "text": [
      "WARNING:tensorflow:From d:\\python 3\\lib\\site-packages\\tensorflow\\python\\framework\\op_def_library.py:263: colocate_with (from tensorflow.python.framework.ops) is deprecated and will be removed in a future version.\n",
      "Instructions for updating:\n",
      "Colocations handled automatically by placer.\n"
     ]
    }
   ],
   "source": [
    "var1=tf.Variable(matrix_3)"
   ]
  },
  {
   "cell_type": "code",
   "execution_count": 1,
   "metadata": {},
   "outputs": [],
   "source": [
    "import pickle\n",
    "with open(\"test_data\\\\mnist.pkl\",\"rb\") as pickle_in:\n",
    "    train_set, valid_set, test_set = pickle.load(pickle_in, encoding='latin1')"
   ]
  },
  {
   "cell_type": "code",
   "execution_count": 2,
   "metadata": {},
   "outputs": [],
   "source": [
    "import numpy as np\n",
    "train_set_y=np.asarray(pd.get_dummies(train_set[1]))\n",
    "valid_set_y=np.asarray(pd.get_dummies(valid_set[1]))\n",
    "test_set_y=np.asarray(pd.get_dummies(test_set[1]))"
   ]
  },
  {
   "cell_type": "code",
   "execution_count": 66,
   "metadata": {},
   "outputs": [
    {
     "data": {
      "image/png": "[encoded data removed]",
      "text/plain": [
       "<Figure size 432x288 with 1 Axes>"
      ]
     },
     "metadata": {
      "needs_background": "light"
     },
     "output_type": "display_data"
    }
   ],
   "source": [
    "im=train_set[0][0].reshape(28,28)\n",
    "import matplotlib.pyplot as plt\n",
    "plt.imshow(im,cmap='gray')\n",
    "plt.show()"
   ]
  },
  {
   "cell_type": "code",
   "execution_count": 76,
   "metadata": {},
   "outputs": [
    {
     "data": {
      "text/plain": [
       "50000"
      ]
     },
     "execution_count": 76,
     "metadata": {},
     "output_type": "execute_result"
    }
   ],
   "source": [
    "len(train_set[1])"
   ]
  },
  {
   "cell_type": "markdown",
   "metadata": {},
   "source": [
    "# Single layer perceptron"
   ]
  },
  {
   "cell_type": "code",
   "execution_count": 77,
   "metadata": {},
   "outputs": [],
   "source": [
    "learning_rate = 0.01\n",
    "training_epochs = 25\n",
    "batch_size = 100\n",
    "display_step = 1\n",
    "\n",
    "x = tf.placeholder(\"float\", shape=(None, 784))  # mnist data image of shape 28*28=784\n",
    "y = tf.placeholder(\"float\", shape=(None, 10)) # 0-9 digits recognition => 10 classes\n",
    "\n",
    "w=tf.Variable(tf.zeros([784,10]))\n",
    "b=tf.Variable(tf.zeros([10]))\n",
    "\n",
    "activation=tf.nn.softmax(tf.matmul(x,w)+b)\n",
    "cross_entropy=y*tf.log(activation)\n",
    "cost=tf.reduce_mean(-tf.reduce_sum(cross_entropy,1))\n",
    "model=tf.train.GradientDescentOptimizer(learning_rate=learning_rate).minimize(cost)\n"
   ]
  },
  {
   "cell_type": "code",
   "execution_count": 118,
   "metadata": {},
   "outputs": [],
   "source": [
    "def next_batch(data,label,num):\n",
    "    idx = np.arange(0 , len(data))\n",
    "    np.random.shuffle(idx)\n",
    "    idx = idx[:num]\n",
    "    data_shuffle = [data[i] for i in idx]\n",
    "    label_shuffle=[label[i] for i in idx]\n",
    "    #label_shuffle=pd.get_dummies(label_shuffle)\n",
    "    return np.asarray(data_shuffle),np.asarray(label_shuffle)"
   ]
  },
  {
   "cell_type": "code",
   "execution_count": 105,
   "metadata": {},
   "outputs": [],
   "source": [
    "batch_x,batch_y=next_batch(train_set[0],train_set[1],batch_size)"
   ]
  },
  {
   "cell_type": "code",
   "execution_count": 151,
   "metadata": {},
   "outputs": [
    {
     "name": "stdout",
     "output_type": "stream",
     "text": [
      "train accuracy: 0.9304800033569336\n",
      "test accuracy: 0.9214000105857849\n"
     ]
    }
   ],
   "source": [
    "avg_cost=[]\n",
    "epoch_=[]\n",
    "init = tf.initialize_all_variables()\n",
    "\n",
    "with tf.Session() as session:\n",
    "    session.run(init)\n",
    "    total_batch=int(50000/batch_size)\n",
    "    for epoch in range(training_epochs):\n",
    "        avg_=0\n",
    "        for i in range(total_batch):\n",
    "            batch_x,batch_y=next_batch(train_set[0],train_set_y,batch_size)\n",
    "            session.run(model,feed_dict={x:batch_x,y:batch_y})\n",
    "            avg_=avg_+session.run(cost,feed_dict={x:batch_x,y:batch_y})/total_batch\n",
    "       # print(epoch,avg_)\n",
    "        avg_cost.append(avg_)\n",
    "        epoch_.append(epoch)\n",
    "    correct_prediction = tf.equal(tf.argmax(activation, 1), tf.argmax(y, 1))\n",
    "    accuracy = tf.reduce_mean(tf.cast(correct_prediction, \"float\"))\n",
    "    print(\"train accuracy: {}\".format(accuracy.eval({x:train_set[0],y:train_set_y})))\n",
    "    print(\"test accuracy: {}\".format(accuracy.eval({x:test_set[0],y:test_set_y})))\n",
    "        "
   ]
  },
  {
   "cell_type": "code",
   "execution_count": 149,
   "metadata": {},
   "outputs": [
    {
     "data": {
      "text/plain": [
       "[<matplotlib.lines.Line2D at 0x41cd2940>]"
      ]
     },
     "execution_count": 149,
     "metadata": {},
     "output_type": "execute_result"
    },
    {
     "data": {
      "image/png": "[encoded data removed]",
      "text/plain": [
       "<Figure size 432x288 with 1 Axes>"
      ]
     },
     "metadata": {
      "needs_background": "light"
     },
     "output_type": "display_data"
    }
   ],
   "source": [
    "plt.plot(epoch_,avg_cost,'o')"
   ]
  },
  {
   "cell_type": "markdown",
   "metadata": {},
   "source": [
    "# Multiple layer perceptron"
   ]
  },
  {
   "cell_type": "code",
   "execution_count": 181,
   "metadata": {},
   "outputs": [],
   "source": [
    "n_hidden_1=256\n",
    "n_hidden_2=256\n",
    "learning_rate=0.001\n",
    "training_epochs = 25\n",
    "batch_size = 100\n",
    "\n",
    "\n",
    "x = tf.placeholder(\"float\", shape=(None, 784))  # mnist data image of shape 28*28=784\n",
    "y = tf.placeholder(\"float\", shape=(None, 10)) # 0-9 digits recognition => 10 classes\n",
    "\n",
    "w1=tf.Variable(tf.random_normal([784,n_hidden_1]))\n",
    "b1=tf.Variable(tf.random_normal([n_hidden_1]))\n",
    "layer1=tf.nn.relu(tf.matmul(x,w1)+b1)\n",
    "\n",
    "w2=tf.Variable(tf.random_uniform([n_hidden_1,n_hidden_2]))\n",
    "b2=tf.Variable(tf.random_uniform([n_hidden_2]))\n",
    "layer2=tf.nn.relu(tf.matmul(layer1,w2)+b2)\n",
    "\n",
    "w3=tf.Variable(tf.truncated_normal([n_hidden_2,10],stddev=0.1))\n",
    "b3=tf.Variable(tf.truncated_normal([10],stddev=0.1))\n",
    "layer3=tf.matmul(layer2,w3)+b3\n",
    "\n",
    "cost=tf.reduce_mean(tf.nn.softmax_cross_entropy_with_logits_v2(logits=layer3, labels=y))\n",
    "#cost=tf.reduce_mean(tf.nn.sigmoid_cross_entropy_with_logits(logits=layer3, labels=y))\n",
    "model=tf.train.AdamOptimizer(learning_rate=learning_rate).minimize(cost)"
   ]
  },
  {
   "cell_type": "code",
   "execution_count": 182,
   "metadata": {},
   "outputs": [
    {
     "name": "stdout",
     "output_type": "stream",
     "text": [
      "train accuracy: 0.8394399881362915\n",
      "test accuracy: 0.8443999886512756\n"
     ]
    }
   ],
   "source": [
    "avg_cost=[]\n",
    "epoch_=[]\n",
    "init = tf.initialize_all_variables()\n",
    "\n",
    "with tf.Session() as session:\n",
    "    for epoch in range(training_epochs):\n",
    "        avg_=0\n",
    "        total_batch=int(50000/batch_size)\n",
    "        session.run(init)\n",
    "        for i in range(int(total_batch)):\n",
    "            batch_x,batch_y=next_batch(train_set[0],train_set_y,batch_size)\n",
    "            session.run(model,feed_dict={x:batch_x,y:batch_y})\n",
    "            avg_=avg_+session.run(cost,feed_dict={x:batch_x,y:batch_y})/total_batch\n",
    "        avg_cost.append(avg_)\n",
    "        epoch_.append(epoch)\n",
    "    correct_prediction = tf.equal(tf.argmax(layer3, 1), tf.argmax(y, 1))\n",
    "    accuracy = tf.reduce_mean(tf.cast(correct_prediction, \"float\"))\n",
    "    print(\"train accuracy: {}\".format(accuracy.eval({x:train_set[0],y:train_set_y})))\n",
    "    print(\"test accuracy: {}\".format(accuracy.eval({x:test_set[0],y:test_set_y})))\n",
    "        \n",
    "            \n",
    "        "
   ]
  },
  {
   "cell_type": "code",
   "execution_count": 183,
   "metadata": {},
   "outputs": [
    {
     "data": {
      "text/plain": [
       "[<matplotlib.lines.Line2D at 0x45fbb860>]"
      ]
     },
     "execution_count": 183,
     "metadata": {},
     "output_type": "execute_result"
    },
    {
     "data": {
      "image/png": "[encoded data removed]",
      "text/plain": [
       "<Figure size 432x288 with 1 Axes>"
      ]
     },
     "metadata": {
      "needs_background": "light"
     },
     "output_type": "display_data"
    }
   ],
   "source": [
    "plt.plot(epoch_,avg_cost,'o')"
   ]
  },
  {
   "cell_type": "markdown",
   "metadata": {},
   "source": [
    "# Keras DNN"
   ]
  },
  {
   "cell_type": "code",
   "execution_count": 184,
   "metadata": {},
   "outputs": [],
   "source": [
    "from keras.models import Sequential\n",
    "from keras.layers import Dense"
   ]
  },
  {
   "cell_type": "code",
   "execution_count": 192,
   "metadata": {},
   "outputs": [],
   "source": [
    "model = Sequential()\n",
    "model.add(Dense(64,activation='relu',input_shape=(784,)))\n",
    "model.add(Dense(64,activation='relu'))\n",
    "model.add(Dense(10,activation='softmax'))\n",
    "\n",
    "model.compile(optimizer='adam',\n",
    "  loss='categorical_crossentropy',\n",
    "  metrics=['accuracy'])"
   ]
  },
  {
   "cell_type": "code",
   "execution_count": 193,
   "metadata": {},
   "outputs": [
    {
     "name": "stdout",
     "output_type": "stream",
     "text": [
      "Epoch 1/25\n",
      "50000/50000 [==============================] - 2s 32us/step - loss: 0.4027 - acc: 0.8853\n",
      "Epoch 2/25\n",
      "50000/50000 [==============================] - 1s 15us/step - loss: 0.1670 - acc: 0.9509\n",
      "Epoch 3/25\n",
      "50000/50000 [==============================] - 1s 15us/step - loss: 0.1198 - acc: 0.9659\n",
      "Epoch 4/25\n",
      "50000/50000 [==============================] - 1s 15us/step - loss: 0.0960 - acc: 0.9718\n",
      "Epoch 5/25\n",
      "50000/50000 [==============================] - 1s 15us/step - loss: 0.0792 - acc: 0.9762\n",
      "Epoch 6/25\n",
      "50000/50000 [==============================] - 1s 15us/step - loss: 0.0666 - acc: 0.9805\n",
      "Epoch 7/25\n",
      "50000/50000 [==============================] - 1s 15us/step - loss: 0.0569 - acc: 0.9827\n",
      "Epoch 8/25\n",
      "50000/50000 [==============================] - 1s 15us/step - loss: 0.0474 - acc: 0.9863\n",
      "Epoch 9/25\n",
      "50000/50000 [==============================] - 1s 15us/step - loss: 0.0430 - acc: 0.9868\n",
      "Epoch 10/25\n",
      "50000/50000 [==============================] - 1s 15us/step - loss: 0.0361 - acc: 0.9892\n",
      "Epoch 11/25\n",
      "50000/50000 [==============================] - 1s 15us/step - loss: 0.0315 - acc: 0.9900\n",
      "Epoch 12/25\n",
      "50000/50000 [==============================] - 1s 15us/step - loss: 0.0284 - acc: 0.9912\n",
      "Epoch 13/25\n",
      "50000/50000 [==============================] - 1s 15us/step - loss: 0.0239 - acc: 0.9929\n",
      "Epoch 14/25\n",
      "50000/50000 [==============================] - 1s 15us/step - loss: 0.0198 - acc: 0.9938\n",
      "Epoch 15/25\n",
      "50000/50000 [==============================] - 1s 15us/step - loss: 0.0180 - acc: 0.9945\n",
      "Epoch 16/25\n",
      "50000/50000 [==============================] - 1s 15us/step - loss: 0.0184 - acc: 0.9940\n",
      "Epoch 17/25\n",
      "50000/50000 [==============================] - 1s 15us/step - loss: 0.0147 - acc: 0.9956\n",
      "Epoch 18/25\n",
      "50000/50000 [==============================] - 1s 15us/step - loss: 0.0143 - acc: 0.9956\n",
      "Epoch 19/25\n",
      "50000/50000 [==============================] - 1s 15us/step - loss: 0.0106 - acc: 0.9967\n",
      "Epoch 20/25\n",
      "50000/50000 [==============================] - 1s 15us/step - loss: 0.0117 - acc: 0.9965\n",
      "Epoch 21/25\n",
      "50000/50000 [==============================] - 1s 15us/step - loss: 0.0114 - acc: 0.9962\n",
      "Epoch 22/25\n",
      "50000/50000 [==============================] - 1s 15us/step - loss: 0.0087 - acc: 0.9972\n",
      "Epoch 23/25\n",
      "50000/50000 [==============================] - 1s 15us/step - loss: 0.0076 - acc: 0.9978\n",
      "Epoch 24/25\n",
      "50000/50000 [==============================] - 1s 15us/step - loss: 0.0122 - acc: 0.9957\n",
      "Epoch 25/25\n",
      "50000/50000 [==============================] - 1s 15us/step - loss: 0.0074 - acc: 0.9978\n"
     ]
    },
    {
     "data": {
      "text/plain": [
       "<keras.callbacks.History at 0x473dcb38>"
      ]
     },
     "execution_count": 193,
     "metadata": {},
     "output_type": "execute_result"
    }
   ],
   "source": [
    "model.fit(train_set[0],train_set_y,epochs=25,batch_size=100)"
   ]
  },
  {
   "cell_type": "code",
   "execution_count": 195,
   "metadata": {},
   "outputs": [
    {
     "name": "stdout",
     "output_type": "stream",
     "text": [
      "50000/50000 [==============================] - 1s 19us/step\n"
     ]
    },
    {
     "data": {
      "text/plain": [
       "[0.005375660678290733, 0.99856]"
      ]
     },
     "execution_count": 195,
     "metadata": {},
     "output_type": "execute_result"
    }
   ],
   "source": [
    "model.evaluate(train_set[0],train_set_y)"
   ]
  },
  {
   "cell_type": "code",
   "execution_count": 196,
   "metadata": {},
   "outputs": [
    {
     "name": "stdout",
     "output_type": "stream",
     "text": [
      "10000/10000 [==============================] - 0s 17us/step\n"
     ]
    },
    {
     "data": {
      "text/plain": [
       "[0.11954510413074494, 0.9741]"
      ]
     },
     "execution_count": 196,
     "metadata": {},
     "output_type": "execute_result"
    }
   ],
   "source": [
    "model.evaluate(test_set[0],test_set_y)"
   ]
  },
  {
   "cell_type": "code",
   "execution_count": 218,
   "metadata": {},
   "outputs": [
    {
     "data": {
      "text/plain": [
       "3"
      ]
     },
     "execution_count": 218,
     "metadata": {},
     "output_type": "execute_result"
    }
   ],
   "source": [
    "model.predict(valid_set[0][:1]).argmax()"
   ]
  },
  {
   "cell_type": "code",
   "execution_count": 219,
   "metadata": {},
   "outputs": [
    {
     "data": {
      "text/plain": [
       "3"
      ]
     },
     "execution_count": 219,
     "metadata": {},
     "output_type": "execute_result"
    }
   ],
   "source": [
    "valid_set[1][0]"
   ]
  },
  {
   "cell_type": "markdown",
   "metadata": {},
   "source": [
    "# CNN"
   ]
  },
  {
   "cell_type": "code",
   "execution_count": 3,
   "metadata": {},
   "outputs": [],
   "source": [
    "from keras.models import Sequential\n",
    "from keras.layers import Dense,Conv2D, Flatten, Dropout, MaxPool2D"
   ]
  },
  {
   "cell_type": "code",
   "execution_count": 12,
   "metadata": {},
   "outputs": [],
   "source": [
    "train_set_x=train_set[0].reshape(50000,28,28,1)\n",
    "test_set_x=test_set[0].reshape(test_set[0].shape[0],28,28,1)"
   ]
  },
  {
   "cell_type": "code",
   "execution_count": 6,
   "metadata": {},
   "outputs": [],
   "source": [
    "model2=Sequential()\n",
    "model2.add(Conv2D(32,kernel_size=(3,3),activation='relu',input_shape=(28,28,1)))\n",
    "model2.add(MaxPool2D(pool_size=(2,2)))\n",
    "model2.add(Dropout(0.2))\n",
    "model2.add(Conv2D(32,kernel_size=(3,3),activation='relu'))\n",
    "model2.add(MaxPool2D(pool_size=(2,2)))\n",
    "model2.add(Dropout(0.2))\n",
    "model2.add(Flatten())\n",
    "model2.add(Dense(64,activation='relu'))\n",
    "model2.add(Dense(10,activation='softmax'))"
   ]
  },
  {
   "cell_type": "code",
   "execution_count": 22,
   "metadata": {},
   "outputs": [
    {
     "name": "stdout",
     "output_type": "stream",
     "text": [
      "Epoch 1/10\n",
      "50000/50000 [==============================] - 23s 461us/step - loss: 0.0257 - acc: 0.9916\n",
      "Epoch 2/10\n",
      "50000/50000 [==============================] - 23s 453us/step - loss: 0.0241 - acc: 0.9917\n",
      "Epoch 3/10\n",
      "50000/50000 [==============================] - 23s 458us/step - loss: 0.0220 - acc: 0.9926\n",
      "Epoch 4/10\n",
      "50000/50000 [==============================] - 23s 455us/step - loss: 0.0193 - acc: 0.9932\n",
      "Epoch 5/10\n",
      "50000/50000 [==============================] - 23s 456us/step - loss: 0.0196 - acc: 0.9934\n",
      "Epoch 6/10\n",
      "50000/50000 [==============================] - 23s 456us/step - loss: 0.0185 - acc: 0.9937\n",
      "Epoch 7/10\n",
      "50000/50000 [==============================] - 23s 458us/step - loss: 0.0166 - acc: 0.9945\n",
      "Epoch 8/10\n",
      "50000/50000 [==============================] - 23s 461us/step - loss: 0.0145 - acc: 0.9949\n",
      "Epoch 9/10\n",
      "50000/50000 [==============================] - 23s 458us/step - loss: 0.0150 - acc: 0.9949\n",
      "Epoch 10/10\n",
      "50000/50000 [==============================] - 23s 458us/step - loss: 0.0131 - acc: 0.9956\n"
     ]
    }
   ],
   "source": [
    "model2.compile(optimizer='adam',\n",
    "  loss='categorical_crossentropy',\n",
    "  metrics=['accuracy'])\n",
    "\n",
    "history=model2.fit(train_set_x,train_set_y,epochs=10,batch_size=100,validation_split=0.1)"
   ]
  },
  {
   "cell_type": "code",
   "execution_count": 23,
   "metadata": {},
   "outputs": [
    {
     "name": "stdout",
     "output_type": "stream",
     "text": [
      "10000/10000 [==============================] - 1s 148us/step\n"
     ]
    },
    {
     "data": {
      "text/plain": [
       "[0.025696198427307172, 0.9919]"
      ]
     },
     "execution_count": 23,
     "metadata": {},
     "output_type": "execute_result"
    }
   ],
   "source": [
    "model2.evaluate(test_set_x,test_set_y)"
   ]
  },
  {
   "cell_type": "code",
   "execution_count": 26,
   "metadata": {},
   "outputs": [
    {
     "data": {
      "text/plain": [
       "dict_keys(['loss', 'acc'])"
      ]
     },
     "execution_count": 26,
     "metadata": {},
     "output_type": "execute_result"
    }
   ],
   "source": [
    "history.history.keys()"
   ]
  },
  {
   "cell_type": "code",
   "execution_count": 28,
   "metadata": {},
   "outputs": [
    {
     "data": {
      "image/png": "[encoded data removed]",
      "text/plain": [
       "<Figure size 432x288 with 1 Axes>"
      ]
     },
     "metadata": {
      "needs_background": "light"
     },
     "output_type": "display_data"
    }
   ],
   "source": [
    "import matplotlib.pyplot as plt\n",
    "plt.plot(history.history['acc'],'o')\n",
    "plt.show()"
   ]
  },
  {
   "cell_type": "code",
   "execution_count": 29,
   "metadata": {},
   "outputs": [
    {
     "name": "stdout",
     "output_type": "stream",
     "text": [
      "_________________________________________________________________\n",
      "Layer (type)                 Output Shape              Param #   \n",
      "=================================================================\n",
      "conv2d_5 (Conv2D)            (None, 26, 26, 32)        320       \n",
      "_________________________________________________________________\n",
      "max_pooling2d_5 (MaxPooling2 (None, 13, 13, 32)        0         \n",
      "_________________________________________________________________\n",
      "dropout_5 (Dropout)          (None, 13, 13, 32)        0         \n",
      "_________________________________________________________________\n",
      "conv2d_6 (Conv2D)            (None, 11, 11, 32)        9248      \n",
      "_________________________________________________________________\n",
      "max_pooling2d_6 (MaxPooling2 (None, 5, 5, 32)          0         \n",
      "_________________________________________________________________\n",
      "dropout_6 (Dropout)          (None, 5, 5, 32)          0         \n",
      "_________________________________________________________________\n",
      "flatten_3 (Flatten)          (None, 800)               0         \n",
      "_________________________________________________________________\n",
      "dense_3 (Dense)              (None, 64)                51264     \n",
      "_________________________________________________________________\n",
      "dense_4 (Dense)              (None, 10)                650       \n",
      "=================================================================\n",
      "Total params: 61,482\n",
      "Trainable params: 61,482\n",
      "Non-trainable params: 0\n",
      "_________________________________________________________________\n"
     ]
    }
   ],
   "source": [
    "model2.summary()"
   ]
  }
 ],
 "metadata": {
  "kernelspec": {
   "display_name": "Python 3",
   "language": "python",
   "name": "python3"
  },
  "language_info": {
   "codemirror_mode": {
    "name": "ipython",
    "version": 3
   },
   "file_extension": ".py",
   "mimetype": "text/x-python",
   "name": "python",
   "nbconvert_exporter": "python",
   "pygments_lexer": "ipython3",
   "version": "3.7.3"
  }
 },
 "nbformat": 4,
 "nbformat_minor": 4
}
